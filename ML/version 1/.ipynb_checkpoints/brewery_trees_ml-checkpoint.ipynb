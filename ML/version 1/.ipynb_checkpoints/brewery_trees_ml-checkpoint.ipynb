{
 "cells": [
  {
   "cell_type": "code",
   "execution_count": 53,
   "metadata": {},
   "outputs": [],
   "source": [
    "from sklearn import tree\n",
    "import pandas as pd\n",
    "import os"
   ]
  },
  {
   "cell_type": "code",
   "execution_count": 54,
   "metadata": {},
   "outputs": [
    {
     "data": {
      "text/html": [
       "<div>\n",
       "<style scoped>\n",
       "    .dataframe tbody tr th:only-of-type {\n",
       "        vertical-align: middle;\n",
       "    }\n",
       "\n",
       "    .dataframe tbody tr th {\n",
       "        vertical-align: top;\n",
       "    }\n",
       "\n",
       "    .dataframe thead th {\n",
       "        text-align: right;\n",
       "    }\n",
       "</style>\n",
       "<table border=\"1\" class=\"dataframe\">\n",
       "  <thead>\n",
       "    <tr style=\"text-align: right;\">\n",
       "      <th></th>\n",
       "      <th>BestList</th>\n",
       "      <th>median_HHI_2019</th>\n",
       "      <th>bach_deg_pct_14to18</th>\n",
       "      <th>pop_density_per_mile</th>\n",
       "      <th>change_in_pop_decade</th>\n",
       "      <th>perc_female</th>\n",
       "      <th>perc_hispanic</th>\n",
       "      <th>unemployment_rate</th>\n",
       "      <th>perc_age_25_39</th>\n",
       "      <th>brewery_per_1M_people</th>\n",
       "      <th>brewery_count</th>\n",
       "    </tr>\n",
       "  </thead>\n",
       "  <tbody>\n",
       "    <tr>\n",
       "      <th>0</th>\n",
       "      <td>False</td>\n",
       "      <td>54127.0</td>\n",
       "      <td>54127.0</td>\n",
       "      <td>592.627754</td>\n",
       "      <td>0.0002</td>\n",
       "      <td>0.527</td>\n",
       "      <td>0.041</td>\n",
       "      <td>2.9</td>\n",
       "      <td>0.2124</td>\n",
       "      <td>13.665911</td>\n",
       "      <td>9.0</td>\n",
       "    </tr>\n",
       "    <tr>\n",
       "      <th>1</th>\n",
       "      <td>False</td>\n",
       "      <td>54127.0</td>\n",
       "      <td>54127.0</td>\n",
       "      <td>592.627754</td>\n",
       "      <td>0.0002</td>\n",
       "      <td>0.527</td>\n",
       "      <td>0.041</td>\n",
       "      <td>2.9</td>\n",
       "      <td>0.2124</td>\n",
       "      <td>13.665911</td>\n",
       "      <td>9.0</td>\n",
       "    </tr>\n",
       "    <tr>\n",
       "      <th>2</th>\n",
       "      <td>False</td>\n",
       "      <td>68609.0</td>\n",
       "      <td>68609.0</td>\n",
       "      <td>465.209901</td>\n",
       "      <td>0.1022</td>\n",
       "      <td>0.511</td>\n",
       "      <td>0.052</td>\n",
       "      <td>2.5</td>\n",
       "      <td>0.2063</td>\n",
       "      <td>26.816194</td>\n",
       "      <td>10.0</td>\n",
       "    </tr>\n",
       "    <tr>\n",
       "      <th>3</th>\n",
       "      <td>False</td>\n",
       "      <td>82512.0</td>\n",
       "      <td>82512.0</td>\n",
       "      <td>168.946367</td>\n",
       "      <td>-0.0133</td>\n",
       "      <td>0.491</td>\n",
       "      <td>0.094</td>\n",
       "      <td>5.1</td>\n",
       "      <td>0.2482</td>\n",
       "      <td>41.666667</td>\n",
       "      <td>12.0</td>\n",
       "    </tr>\n",
       "    <tr>\n",
       "      <th>4</th>\n",
       "      <td>False</td>\n",
       "      <td>56150.0</td>\n",
       "      <td>56150.0</td>\n",
       "      <td>113.995308</td>\n",
       "      <td>0.0640</td>\n",
       "      <td>0.508</td>\n",
       "      <td>0.378</td>\n",
       "      <td>4.4</td>\n",
       "      <td>0.1894</td>\n",
       "      <td>18.142252</td>\n",
       "      <td>19.0</td>\n",
       "    </tr>\n",
       "  </tbody>\n",
       "</table>\n",
       "</div>"
      ],
      "text/plain": [
       "   BestList  median_HHI_2019  bach_deg_pct_14to18  pop_density_per_mile  \\\n",
       "0     False          54127.0              54127.0            592.627754   \n",
       "1     False          54127.0              54127.0            592.627754   \n",
       "2     False          68609.0              68609.0            465.209901   \n",
       "3     False          82512.0              82512.0            168.946367   \n",
       "4     False          56150.0              56150.0            113.995308   \n",
       "\n",
       "   change_in_pop_decade  perc_female  perc_hispanic  unemployment_rate  \\\n",
       "0                0.0002        0.527          0.041                2.9   \n",
       "1                0.0002        0.527          0.041                2.9   \n",
       "2                0.1022        0.511          0.052                2.5   \n",
       "3               -0.0133        0.491          0.094                5.1   \n",
       "4                0.0640        0.508          0.378                4.4   \n",
       "\n",
       "   perc_age_25_39  brewery_per_1M_people  brewery_count  \n",
       "0          0.2124              13.665911            9.0  \n",
       "1          0.2124              13.665911            9.0  \n",
       "2          0.2063              26.816194           10.0  \n",
       "3          0.2482              41.666667           12.0  \n",
       "4          0.1894              18.142252           19.0  "
      ]
     },
     "execution_count": 54,
     "metadata": {},
     "output_type": "execute_result"
    }
   ],
   "source": [
    "df = pd.read_csv(os.path.join(\"county_brewery_ml_filtered.csv\"))\n",
    "df.head()"
   ]
  },
  {
   "cell_type": "code",
   "execution_count": 55,
   "metadata": {},
   "outputs": [],
   "source": [
    "target = df[\"BestList\"]\n",
    "target_names = [\"no\", \"yes\"]"
   ]
  },
  {
   "cell_type": "code",
   "execution_count": 56,
   "metadata": {},
   "outputs": [
    {
     "data": {
      "text/html": [
       "<div>\n",
       "<style scoped>\n",
       "    .dataframe tbody tr th:only-of-type {\n",
       "        vertical-align: middle;\n",
       "    }\n",
       "\n",
       "    .dataframe tbody tr th {\n",
       "        vertical-align: top;\n",
       "    }\n",
       "\n",
       "    .dataframe thead th {\n",
       "        text-align: right;\n",
       "    }\n",
       "</style>\n",
       "<table border=\"1\" class=\"dataframe\">\n",
       "  <thead>\n",
       "    <tr style=\"text-align: right;\">\n",
       "      <th></th>\n",
       "      <th>median_HHI_2019</th>\n",
       "      <th>bach_deg_pct_14to18</th>\n",
       "      <th>pop_density_per_mile</th>\n",
       "      <th>change_in_pop_decade</th>\n",
       "      <th>perc_female</th>\n",
       "      <th>perc_hispanic</th>\n",
       "      <th>unemployment_rate</th>\n",
       "      <th>perc_age_25_39</th>\n",
       "      <th>brewery_per_1M_people</th>\n",
       "      <th>brewery_count</th>\n",
       "    </tr>\n",
       "  </thead>\n",
       "  <tbody>\n",
       "    <tr>\n",
       "      <th>0</th>\n",
       "      <td>54127.0</td>\n",
       "      <td>54127.0</td>\n",
       "      <td>592.627754</td>\n",
       "      <td>0.0002</td>\n",
       "      <td>0.527</td>\n",
       "      <td>0.041</td>\n",
       "      <td>2.9</td>\n",
       "      <td>0.2124</td>\n",
       "      <td>13.665911</td>\n",
       "      <td>9.0</td>\n",
       "    </tr>\n",
       "    <tr>\n",
       "      <th>1</th>\n",
       "      <td>54127.0</td>\n",
       "      <td>54127.0</td>\n",
       "      <td>592.627754</td>\n",
       "      <td>0.0002</td>\n",
       "      <td>0.527</td>\n",
       "      <td>0.041</td>\n",
       "      <td>2.9</td>\n",
       "      <td>0.2124</td>\n",
       "      <td>13.665911</td>\n",
       "      <td>9.0</td>\n",
       "    </tr>\n",
       "    <tr>\n",
       "      <th>2</th>\n",
       "      <td>68609.0</td>\n",
       "      <td>68609.0</td>\n",
       "      <td>465.209901</td>\n",
       "      <td>0.1022</td>\n",
       "      <td>0.511</td>\n",
       "      <td>0.052</td>\n",
       "      <td>2.5</td>\n",
       "      <td>0.2063</td>\n",
       "      <td>26.816194</td>\n",
       "      <td>10.0</td>\n",
       "    </tr>\n",
       "    <tr>\n",
       "      <th>3</th>\n",
       "      <td>82512.0</td>\n",
       "      <td>82512.0</td>\n",
       "      <td>168.946367</td>\n",
       "      <td>-0.0133</td>\n",
       "      <td>0.491</td>\n",
       "      <td>0.094</td>\n",
       "      <td>5.1</td>\n",
       "      <td>0.2482</td>\n",
       "      <td>41.666667</td>\n",
       "      <td>12.0</td>\n",
       "    </tr>\n",
       "    <tr>\n",
       "      <th>4</th>\n",
       "      <td>56150.0</td>\n",
       "      <td>56150.0</td>\n",
       "      <td>113.995308</td>\n",
       "      <td>0.0640</td>\n",
       "      <td>0.508</td>\n",
       "      <td>0.378</td>\n",
       "      <td>4.4</td>\n",
       "      <td>0.1894</td>\n",
       "      <td>18.142252</td>\n",
       "      <td>19.0</td>\n",
       "    </tr>\n",
       "  </tbody>\n",
       "</table>\n",
       "</div>"
      ],
      "text/plain": [
       "   median_HHI_2019  bach_deg_pct_14to18  pop_density_per_mile  \\\n",
       "0          54127.0              54127.0            592.627754   \n",
       "1          54127.0              54127.0            592.627754   \n",
       "2          68609.0              68609.0            465.209901   \n",
       "3          82512.0              82512.0            168.946367   \n",
       "4          56150.0              56150.0            113.995308   \n",
       "\n",
       "   change_in_pop_decade  perc_female  perc_hispanic  unemployment_rate  \\\n",
       "0                0.0002        0.527          0.041                2.9   \n",
       "1                0.0002        0.527          0.041                2.9   \n",
       "2                0.1022        0.511          0.052                2.5   \n",
       "3               -0.0133        0.491          0.094                5.1   \n",
       "4                0.0640        0.508          0.378                4.4   \n",
       "\n",
       "   perc_age_25_39  brewery_per_1M_people  brewery_count  \n",
       "0          0.2124              13.665911            9.0  \n",
       "1          0.2124              13.665911            9.0  \n",
       "2          0.2063              26.816194           10.0  \n",
       "3          0.2482              41.666667           12.0  \n",
       "4          0.1894              18.142252           19.0  "
      ]
     },
     "execution_count": 56,
     "metadata": {},
     "output_type": "execute_result"
    }
   ],
   "source": [
    "data = df.drop(\"BestList\", axis=1)\n",
    "feature_names = data.columns\n",
    "data.head()"
   ]
  },
  {
   "cell_type": "code",
   "execution_count": 57,
   "metadata": {},
   "outputs": [],
   "source": [
    "# data.replace([data.inf, -data.inf], data.nan, inplace=True)"
   ]
  },
  {
   "cell_type": "code",
   "execution_count": 58,
   "metadata": {},
   "outputs": [],
   "source": [
    "data.fillna(data.mean(), inplace=True)"
   ]
  },
  {
   "cell_type": "code",
   "execution_count": 59,
   "metadata": {},
   "outputs": [],
   "source": [
    "from sklearn.model_selection import train_test_split\n",
    "X_train, X_test, y_train, y_test = train_test_split(data, target, random_state=42)"
   ]
  },
  {
   "cell_type": "code",
   "execution_count": 60,
   "metadata": {},
   "outputs": [
    {
     "data": {
      "text/plain": [
       "0.9895833333333334"
      ]
     },
     "execution_count": 60,
     "metadata": {},
     "output_type": "execute_result"
    }
   ],
   "source": [
    "clf = tree.DecisionTreeClassifier()\n",
    "clf = clf.fit(X_train, y_train)\n",
    "clf.score(X_test, y_test)"
   ]
  },
  {
   "cell_type": "code",
   "execution_count": 61,
   "metadata": {},
   "outputs": [
    {
     "data": {
      "text/plain": [
       "0.9895833333333334"
      ]
     },
     "execution_count": 61,
     "metadata": {},
     "output_type": "execute_result"
    }
   ],
   "source": [
    "from sklearn.ensemble import RandomForestClassifier\n",
    "rf = RandomForestClassifier(n_estimators=200)\n",
    "rf = rf.fit(X_train, y_train)\n",
    "rf.score(X_test, y_test)"
   ]
  },
  {
   "cell_type": "code",
   "execution_count": 62,
   "metadata": {},
   "outputs": [
    {
     "data": {
      "text/plain": [
       "[(0.13410791136805628, 'change_in_pop_decade'),\n",
       " (0.11920476261327717, 'perc_hispanic'),\n",
       " (0.11335955929979014, 'pop_density_per_mile'),\n",
       " (0.11093298291404666, 'perc_age_25_39'),\n",
       " (0.1059636995089948, 'brewery_count'),\n",
       " (0.1006275670146, 'brewery_per_1M_people'),\n",
       " (0.09979455969459006, 'median_HHI_2019'),\n",
       " (0.09645969886853234, 'bach_deg_pct_14to18'),\n",
       " (0.0613296374387241, 'perc_female'),\n",
       " (0.05821962127938857, 'unemployment_rate')]"
      ]
     },
     "execution_count": 62,
     "metadata": {},
     "output_type": "execute_result"
    }
   ],
   "source": [
    "sorted(zip(rf.feature_importances_, feature_names), reverse=True)"
   ]
  },
  {
   "cell_type": "code",
   "execution_count": 63,
   "metadata": {},
   "outputs": [],
   "source": [
    "## Results when counties with 1 or 2 breweries are filtered out"
   ]
  },
  {
   "cell_type": "code",
   "execution_count": null,
   "metadata": {},
   "outputs": [],
   "source": [
    "## rf.predict on the array that we build to predict.\n"
   ]
  }
 ],
 "metadata": {
  "kernelspec": {
   "display_name": "Python [conda env:PythonAdv] *",
   "language": "python",
   "name": "conda-env-PythonAdv-py"
  },
  "language_info": {
   "codemirror_mode": {
    "name": "ipython",
    "version": 3
   },
   "file_extension": ".py",
   "mimetype": "text/x-python",
   "name": "python",
   "nbconvert_exporter": "python",
   "pygments_lexer": "ipython3",
   "version": "3.6.12"
  },
  "varInspector": {
   "cols": {
    "lenName": 16,
    "lenType": 16,
    "lenVar": 40
   },
   "kernels_config": {
    "python": {
     "delete_cmd_postfix": "",
     "delete_cmd_prefix": "del ",
     "library": "var_list.py",
     "varRefreshCmd": "print(var_dic_list())"
    },
    "r": {
     "delete_cmd_postfix": ") ",
     "delete_cmd_prefix": "rm(",
     "library": "var_list.r",
     "varRefreshCmd": "cat(var_dic_list()) "
    }
   },
   "types_to_exclude": [
    "module",
    "function",
    "builtin_function_or_method",
    "instance",
    "_Feature"
   ],
   "window_display": false
  }
 },
 "nbformat": 4,
 "nbformat_minor": 2
}

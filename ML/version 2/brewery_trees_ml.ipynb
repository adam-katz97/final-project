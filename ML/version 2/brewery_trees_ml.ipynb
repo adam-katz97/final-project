{
 "cells": [
  {
   "cell_type": "code",
   "execution_count": 1,
   "metadata": {},
   "outputs": [],
   "source": [
    "from sklearn import tree\n",
    "import pandas as pd\n",
    "import os\n",
    "\n",
    "# Inclusion of code for Permutational importance per dan\n",
    "from sklearn.inspection import permutation_importance\n"
   ]
  },
  {
   "cell_type": "code",
   "execution_count": 2,
   "metadata": {},
   "outputs": [
    {
     "name": "stdout",
     "output_type": "stream",
     "text": [
      "Requirement already satisfied: pyxll-jupyter in c:\\users\\zach-\\anaconda3\\envs\\pythonadv\\lib\\site-packages (0.1.21)\n",
      "Requirement already satisfied: pyxll>=5.0.0 in c:\\users\\zach-\\anaconda3\\envs\\pythonadv\\lib\\site-packages (from pyxll-jupyter) (5.0.9)\n",
      "Requirement already satisfied: jupyter>=1.0.0 in c:\\users\\zach-\\anaconda3\\envs\\pythonadv\\lib\\site-packages (from pyxll-jupyter) (1.0.0)\n",
      "Requirement already satisfied: notebook>=6.0.0 in c:\\users\\zach-\\anaconda3\\envs\\pythonadv\\lib\\site-packages (from pyxll-jupyter) (6.2.0)\n",
      "Requirement already satisfied: PySide2 in c:\\users\\zach-\\anaconda3\\envs\\pythonadv\\lib\\site-packages (from pyxll-jupyter) (5.15.2)\n",
      "Requirement already satisfied: qtconsole in c:\\users\\zach-\\anaconda3\\envs\\pythonadv\\lib\\site-packages (from jupyter>=1.0.0->pyxll-jupyter) (5.0.2)\n",
      "Requirement already satisfied: ipywidgets in c:\\users\\zach-\\anaconda3\\envs\\pythonadv\\lib\\site-packages (from jupyter>=1.0.0->pyxll-jupyter) (7.6.3)\n",
      "Requirement already satisfied: nbconvert in c:\\users\\zach-\\anaconda3\\envs\\pythonadv\\lib\\site-packages (from jupyter>=1.0.0->pyxll-jupyter) (6.0.7)\n",
      "Requirement already satisfied: jupyter-console in c:\\users\\zach-\\anaconda3\\envs\\pythonadv\\lib\\site-packages (from jupyter>=1.0.0->pyxll-jupyter) (6.2.0)\n",
      "Requirement already satisfied: ipykernel in c:\\users\\zach-\\anaconda3\\envs\\pythonadv\\lib\\site-packages (from jupyter>=1.0.0->pyxll-jupyter) (5.3.4)\n",
      "Requirement already satisfied: tornado>=6.1 in c:\\users\\zach-\\anaconda3\\envs\\pythonadv\\lib\\site-packages (from notebook>=6.0.0->pyxll-jupyter) (6.1)\n",
      "Requirement already satisfied: Send2Trash>=1.5.0 in c:\\users\\zach-\\anaconda3\\envs\\pythonadv\\lib\\site-packages (from notebook>=6.0.0->pyxll-jupyter) (1.5.0)\n",
      "Requirement already satisfied: terminado>=0.8.3 in c:\\users\\zach-\\anaconda3\\envs\\pythonadv\\lib\\site-packages (from notebook>=6.0.0->pyxll-jupyter) (0.9.2)\n",
      "Requirement already satisfied: argon2-cffi in c:\\users\\zach-\\anaconda3\\envs\\pythonadv\\lib\\site-packages (from notebook>=6.0.0->pyxll-jupyter) (20.1.0)\n",
      "Requirement already satisfied: traitlets>=4.2.1 in c:\\users\\zach-\\anaconda3\\envs\\pythonadv\\lib\\site-packages (from notebook>=6.0.0->pyxll-jupyter) (4.3.3)\n",
      "Requirement already satisfied: jupyter-client>=5.3.4 in c:\\users\\zach-\\anaconda3\\envs\\pythonadv\\lib\\site-packages (from notebook>=6.0.0->pyxll-jupyter) (6.1.7)\n",
      "Requirement already satisfied: nbformat in c:\\users\\zach-\\anaconda3\\envs\\pythonadv\\lib\\site-packages (from notebook>=6.0.0->pyxll-jupyter) (5.1.2)\n",
      "Requirement already satisfied: prometheus-client in c:\\users\\zach-\\anaconda3\\envs\\pythonadv\\lib\\site-packages (from notebook>=6.0.0->pyxll-jupyter) (0.9.0)\n",
      "Requirement already satisfied: jupyter-core>=4.6.1 in c:\\users\\zach-\\anaconda3\\envs\\pythonadv\\lib\\site-packages (from notebook>=6.0.0->pyxll-jupyter) (4.7.1)\n",
      "Requirement already satisfied: pyzmq>=17 in c:\\users\\zach-\\anaconda3\\envs\\pythonadv\\lib\\site-packages (from notebook>=6.0.0->pyxll-jupyter) (20.0.0)\n",
      "Requirement already satisfied: jinja2 in c:\\users\\zach-\\anaconda3\\envs\\pythonadv\\lib\\site-packages (from notebook>=6.0.0->pyxll-jupyter) (2.11.3)\n",
      "Requirement already satisfied: ipython-genutils in c:\\users\\zach-\\anaconda3\\envs\\pythonadv\\lib\\site-packages (from notebook>=6.0.0->pyxll-jupyter) (0.2.0)\n",
      "Requirement already satisfied: python-dateutil>=2.1 in c:\\users\\zach-\\anaconda3\\envs\\pythonadv\\lib\\site-packages (from jupyter-client>=5.3.4->notebook>=6.0.0->pyxll-jupyter) (2.8.1)\n",
      "Requirement already satisfied: pywin32>=1.0 in c:\\users\\zach-\\anaconda3\\envs\\pythonadv\\lib\\site-packages (from jupyter-core>=4.6.1->notebook>=6.0.0->pyxll-jupyter) (227)\n",
      "Requirement already satisfied: six>=1.5 in c:\\users\\zach-\\anaconda3\\envs\\pythonadv\\lib\\site-packages (from python-dateutil>=2.1->jupyter-client>=5.3.4->notebook>=6.0.0->pyxll-jupyter) (1.15.0)\n",
      "Requirement already satisfied: pywinpty>=0.5 in c:\\users\\zach-\\anaconda3\\envs\\pythonadv\\lib\\site-packages (from terminado>=0.8.3->notebook>=6.0.0->pyxll-jupyter) (0.5.7)\n",
      "Requirement already satisfied: decorator in c:\\users\\zach-\\anaconda3\\envs\\pythonadv\\lib\\site-packages (from traitlets>=4.2.1->notebook>=6.0.0->pyxll-jupyter) (4.4.2)\n",
      "Requirement already satisfied: cffi>=1.0.0 in c:\\users\\zach-\\anaconda3\\envs\\pythonadv\\lib\\site-packages (from argon2-cffi->notebook>=6.0.0->pyxll-jupyter) (1.14.4)\n",
      "Requirement already satisfied: pycparser in c:\\users\\zach-\\anaconda3\\envs\\pythonadv\\lib\\site-packages (from cffi>=1.0.0->argon2-cffi->notebook>=6.0.0->pyxll-jupyter) (2.20)\n",
      "Requirement already satisfied: ipython>=5.0.0 in c:\\users\\zach-\\anaconda3\\envs\\pythonadv\\lib\\site-packages (from ipykernel->jupyter>=1.0.0->pyxll-jupyter) (7.16.1)\n",
      "Requirement already satisfied: pickleshare in c:\\users\\zach-\\anaconda3\\envs\\pythonadv\\lib\\site-packages (from ipython>=5.0.0->ipykernel->jupyter>=1.0.0->pyxll-jupyter) (0.7.5)\n",
      "Requirement already satisfied: backcall in c:\\users\\zach-\\anaconda3\\envs\\pythonadv\\lib\\site-packages (from ipython>=5.0.0->ipykernel->jupyter>=1.0.0->pyxll-jupyter) (0.2.0)\n",
      "Requirement already satisfied: pygments in c:\\users\\zach-\\anaconda3\\envs\\pythonadv\\lib\\site-packages (from ipython>=5.0.0->ipykernel->jupyter>=1.0.0->pyxll-jupyter) (2.7.4)\n",
      "Requirement already satisfied: prompt-toolkit!=3.0.0,!=3.0.1,<3.1.0,>=2.0.0 in c:\\users\\zach-\\anaconda3\\envs\\pythonadv\\lib\\site-packages (from ipython>=5.0.0->ipykernel->jupyter>=1.0.0->pyxll-jupyter) (3.0.8)\n",
      "Requirement already satisfied: colorama in c:\\users\\zach-\\anaconda3\\envs\\pythonadv\\lib\\site-packages (from ipython>=5.0.0->ipykernel->jupyter>=1.0.0->pyxll-jupyter) (0.4.4)\n",
      "Requirement already satisfied: jedi>=0.10 in c:\\users\\zach-\\anaconda3\\envs\\pythonadv\\lib\\site-packages (from ipython>=5.0.0->ipykernel->jupyter>=1.0.0->pyxll-jupyter) (0.17.0)\n",
      "Requirement already satisfied: setuptools>=18.5 in c:\\users\\zach-\\anaconda3\\envs\\pythonadv\\lib\\site-packages (from ipython>=5.0.0->ipykernel->jupyter>=1.0.0->pyxll-jupyter) (52.0.0.post20210125)\n",
      "Requirement already satisfied: parso>=0.7.0 in c:\\users\\zach-\\anaconda3\\envs\\pythonadv\\lib\\site-packages (from jedi>=0.10->ipython>=5.0.0->ipykernel->jupyter>=1.0.0->pyxll-jupyter) (0.8.1)\n",
      "Requirement already satisfied: wcwidth in c:\\users\\zach-\\anaconda3\\envs\\pythonadv\\lib\\site-packages (from prompt-toolkit!=3.0.0,!=3.0.1,<3.1.0,>=2.0.0->ipython>=5.0.0->ipykernel->jupyter>=1.0.0->pyxll-jupyter) (0.2.5)\n",
      "Requirement already satisfied: widgetsnbextension~=3.5.0 in c:\\users\\zach-\\anaconda3\\envs\\pythonadv\\lib\\site-packages (from ipywidgets->jupyter>=1.0.0->pyxll-jupyter) (3.5.1)\n",
      "Requirement already satisfied: jupyterlab-widgets>=1.0.0 in c:\\users\\zach-\\anaconda3\\envs\\pythonadv\\lib\\site-packages (from ipywidgets->jupyter>=1.0.0->pyxll-jupyter) (1.0.0)\n",
      "Requirement already satisfied: jsonschema!=2.5.0,>=2.4 in c:\\users\\zach-\\anaconda3\\envs\\pythonadv\\lib\\site-packages (from nbformat->notebook>=6.0.0->pyxll-jupyter) (3.2.0)\n",
      "Requirement already satisfied: attrs>=17.4.0 in c:\\users\\zach-\\anaconda3\\envs\\pythonadv\\lib\\site-packages (from jsonschema!=2.5.0,>=2.4->nbformat->notebook>=6.0.0->pyxll-jupyter) (20.3.0)\n",
      "Requirement already satisfied: pyrsistent>=0.14.0 in c:\\users\\zach-\\anaconda3\\envs\\pythonadv\\lib\\site-packages (from jsonschema!=2.5.0,>=2.4->nbformat->notebook>=6.0.0->pyxll-jupyter) (0.17.3)\n",
      "Requirement already satisfied: importlib-metadata in c:\\users\\zach-\\anaconda3\\envs\\pythonadv\\lib\\site-packages (from jsonschema!=2.5.0,>=2.4->nbformat->notebook>=6.0.0->pyxll-jupyter) (2.0.0)\n",
      "Requirement already satisfied: zipp>=0.5 in c:\\users\\zach-\\anaconda3\\envs\\pythonadv\\lib\\site-packages (from importlib-metadata->jsonschema!=2.5.0,>=2.4->nbformat->notebook>=6.0.0->pyxll-jupyter) (3.4.0)\n",
      "Requirement already satisfied: MarkupSafe>=0.23 in c:\\users\\zach-\\anaconda3\\envs\\pythonadv\\lib\\site-packages (from jinja2->notebook>=6.0.0->pyxll-jupyter) (1.1.1)\n",
      "Requirement already satisfied: testpath in c:\\users\\zach-\\anaconda3\\envs\\pythonadv\\lib\\site-packages (from nbconvert->jupyter>=1.0.0->pyxll-jupyter) (0.4.4)\n",
      "Requirement already satisfied: nbclient<0.6.0,>=0.5.0 in c:\\users\\zach-\\anaconda3\\envs\\pythonadv\\lib\\site-packages (from nbconvert->jupyter>=1.0.0->pyxll-jupyter) (0.5.1)\n",
      "Requirement already satisfied: entrypoints>=0.2.2 in c:\\users\\zach-\\anaconda3\\envs\\pythonadv\\lib\\site-packages (from nbconvert->jupyter>=1.0.0->pyxll-jupyter) (0.3)\n",
      "Requirement already satisfied: pandocfilters>=1.4.1 in c:\\users\\zach-\\anaconda3\\envs\\pythonadv\\lib\\site-packages (from nbconvert->jupyter>=1.0.0->pyxll-jupyter) (1.4.3)\n",
      "Requirement already satisfied: mistune<2,>=0.8.1 in c:\\users\\zach-\\anaconda3\\envs\\pythonadv\\lib\\site-packages (from nbconvert->jupyter>=1.0.0->pyxll-jupyter) (0.8.4)\n",
      "Requirement already satisfied: defusedxml in c:\\users\\zach-\\anaconda3\\envs\\pythonadv\\lib\\site-packages (from nbconvert->jupyter>=1.0.0->pyxll-jupyter) (0.6.0)\n",
      "Requirement already satisfied: jupyterlab-pygments in c:\\users\\zach-\\anaconda3\\envs\\pythonadv\\lib\\site-packages (from nbconvert->jupyter>=1.0.0->pyxll-jupyter) (0.1.2)\n",
      "Requirement already satisfied: bleach in c:\\users\\zach-\\anaconda3\\envs\\pythonadv\\lib\\site-packages (from nbconvert->jupyter>=1.0.0->pyxll-jupyter) (3.3.0)\n",
      "Requirement already satisfied: async-generator in c:\\users\\zach-\\anaconda3\\envs\\pythonadv\\lib\\site-packages (from nbclient<0.6.0,>=0.5.0->nbconvert->jupyter>=1.0.0->pyxll-jupyter) (1.10)\n",
      "Requirement already satisfied: nest-asyncio in c:\\users\\zach-\\anaconda3\\envs\\pythonadv\\lib\\site-packages (from nbclient<0.6.0,>=0.5.0->nbconvert->jupyter>=1.0.0->pyxll-jupyter) (1.4.3)\n",
      "Requirement already satisfied: packaging in c:\\users\\zach-\\anaconda3\\envs\\pythonadv\\lib\\site-packages (from bleach->nbconvert->jupyter>=1.0.0->pyxll-jupyter) (20.9)\n",
      "Requirement already satisfied: webencodings in c:\\users\\zach-\\anaconda3\\envs\\pythonadv\\lib\\site-packages (from bleach->nbconvert->jupyter>=1.0.0->pyxll-jupyter) (0.5.1)\n",
      "Requirement already satisfied: pyparsing>=2.0.2 in c:\\users\\zach-\\anaconda3\\envs\\pythonadv\\lib\\site-packages (from packaging->bleach->nbconvert->jupyter>=1.0.0->pyxll-jupyter) (2.4.7)\n",
      "Requirement already satisfied: shiboken2==5.15.2 in c:\\users\\zach-\\anaconda3\\envs\\pythonadv\\lib\\site-packages (from PySide2->pyxll-jupyter) (5.15.2)\n",
      "Requirement already satisfied: qtpy in c:\\users\\zach-\\anaconda3\\envs\\pythonadv\\lib\\site-packages (from qtconsole->jupyter>=1.0.0->pyxll-jupyter) (1.9.0)\n",
      "Note: you may need to restart the kernel to use updated packages.\n"
     ]
    }
   ],
   "source": [
    "pip install pyxll-jupyter"
   ]
  },
  {
   "cell_type": "code",
   "execution_count": null,
   "metadata": {},
   "outputs": [],
   "source": [
    "df = pd.read_csv(os.path.join(\"data_county_ml_v2_best.csv\"))\n",
    "df.head()"
   ]
  },
  {
   "cell_type": "code",
   "execution_count": null,
   "metadata": {},
   "outputs": [],
   "source": [
    "target = df[\"BestList\"]\n",
    "target_names = [\"no\", \"yes\"]"
   ]
  },
  {
   "cell_type": "code",
   "execution_count": null,
   "metadata": {},
   "outputs": [],
   "source": [
    "data = df.drop(\"BestList\", axis=1)\n",
    "feature_names = data.columns\n",
    "data.head()"
   ]
  },
  {
   "cell_type": "code",
   "execution_count": null,
   "metadata": {},
   "outputs": [],
   "source": [
    "# data.replace([data.inf, -data.inf], data.nan, inplace=True)"
   ]
  },
  {
   "cell_type": "code",
   "execution_count": null,
   "metadata": {},
   "outputs": [],
   "source": [
    "data.fillna(data.mean(), inplace=True)"
   ]
  },
  {
   "cell_type": "code",
   "execution_count": null,
   "metadata": {},
   "outputs": [],
   "source": [
    "from sklearn.model_selection import train_test_split\n",
    "X_train, X_test, y_train, y_test = train_test_split(data, target, random_state=42)"
   ]
  },
  {
   "cell_type": "code",
   "execution_count": null,
   "metadata": {},
   "outputs": [],
   "source": [
    "clf = tree.DecisionTreeClassifier()\n",
    "clf = clf.fit(X_train, y_train)\n",
    "clf.score(X_test, y_test)"
   ]
  },
  {
   "cell_type": "code",
   "execution_count": null,
   "metadata": {},
   "outputs": [],
   "source": [
    "from sklearn.ensemble import RandomForestClassifier\n",
    "rf = RandomForestClassifier(n_estimators=200)\n",
    "rf = rf.fit(X_train, y_train)\n",
    "rf.score(X_test, y_test)"
   ]
  },
  {
   "cell_type": "code",
   "execution_count": null,
   "metadata": {},
   "outputs": [],
   "source": [
    "sorted(zip(rf.feature_importances_, feature_names), reverse=True)"
   ]
  },
  {
   "cell_type": "markdown",
   "metadata": {},
   "source": [
    "## Comparision of Calibration of Classifiers"
   ]
  },
  {
   "cell_type": "code",
   "execution_count": null,
   "metadata": {},
   "outputs": [],
   "source": [
    "print(__doc__)\n",
    "\n",
    "# Author: Jan Hendrik Metzen <jhm@informatik.uni-bremen.de>\n",
    "# License: BSD Style.\n",
    "\n",
    "import numpy as np\n",
    "np.random.seed(0)\n",
    "\n",
    "import matplotlib.pyplot as plt\n",
    "\n",
    "from sklearn import datasets\n",
    "from sklearn.naive_bayes import GaussianNB\n",
    "from sklearn.linear_model import LogisticRegression\n",
    "from sklearn.ensemble import RandomForestClassifier\n",
    "from sklearn.svm import LinearSVC\n",
    "from sklearn.calibration import calibration_curve\n",
    "\n",
    "# X, y = datasets.make_classification(n_samples=100000, n_features=20,\n",
    "#                                     n_informative=2, n_redundant=2)\n",
    "\n",
    "# train_samples = 100  # Samples used for training the models\n",
    "\n",
    "# X_train = X[:train_samples]\n",
    "# X_test = X[train_samples:]\n",
    "# y_train = y[:train_samples]\n",
    "# y_test = y[train_samples:]\n",
    "\n",
    "# Create classifiers\n",
    "lr = LogisticRegression()\n",
    "gnb = GaussianNB()\n",
    "svc = LinearSVC(C=1.0)\n",
    "rfc = RandomForestClassifier()\n",
    "\n",
    "\n",
    "# #############################################################################\n",
    "# Plot calibration plots\n",
    "\n",
    "plt.figure(figsize=(10, 10))\n",
    "ax1 = plt.subplot2grid((3, 1), (0, 0), rowspan=2)\n",
    "ax2 = plt.subplot2grid((3, 1), (2, 0))\n",
    "\n",
    "ax1.plot([0, 1], [0, 1], \"k:\", label=\"Perfectly calibrated\")\n",
    "for clf, name in [(lr, 'Logistic'),\n",
    "                  (gnb, 'Naive Bayes'),\n",
    "                  (svc, 'Support Vector Classification'),\n",
    "                  (rfc, 'Random Forest')]:\n",
    "    clf.fit(X_train, y_train)\n",
    "    if hasattr(clf, \"predict_proba\"):\n",
    "        prob_pos = clf.predict_proba(X_test)[:, 1]\n",
    "    else:  # use decision function\n",
    "        prob_pos = clf.decision_function(X_test)\n",
    "        prob_pos = \\\n",
    "            (prob_pos - prob_pos.min()) / (prob_pos.max() - prob_pos.min())\n",
    "    fraction_of_positives, mean_predicted_value = \\\n",
    "        calibration_curve(y_test, prob_pos, n_bins=10)\n",
    "\n",
    "    ax1.plot(mean_predicted_value, fraction_of_positives, \"s-\",\n",
    "             label=\"%s\" % (name, ))\n",
    "\n",
    "    ax2.hist(prob_pos, range=(0, 1), bins=10, label=name,\n",
    "             histtype=\"step\", lw=2)\n",
    "\n",
    "ax1.set_ylabel(\"Fraction of positives\")\n",
    "ax1.set_ylim([-0.05, 1.05])\n",
    "ax1.legend(loc=\"lower right\")\n",
    "ax1.set_title('Calibration plots  (reliability curve)')\n",
    "\n",
    "ax2.set_xlabel(\"Mean predicted value\")\n",
    "ax2.set_ylabel(\"Count\")\n",
    "ax2.legend(loc=\"upper center\", ncol=2)\n",
    "\n",
    "plt.tight_layout()\n",
    "plt.show()"
   ]
  },
  {
   "cell_type": "markdown",
   "metadata": {},
   "source": [
    "# Permutation Importance Model\n"
   ]
  },
  {
   "cell_type": "code",
   "execution_count": null,
   "metadata": {},
   "outputs": [],
   "source": [
    "# rf is the random forest model, for X you can use X or X_train, and the corresponding y (/y_train)\n",
    "result = permutation_importance(rf, X_train, y_train, random_state=0)"
   ]
  },
  {
   "cell_type": "code",
   "execution_count": null,
   "metadata": {},
   "outputs": [],
   "source": [
    "# then you can use the importances_mean like your importances from your model\n",
    "sorted(zip(result.importances_mean, feature_names), reverse=True)"
   ]
  },
  {
   "cell_type": "markdown",
   "metadata": {},
   "source": [
    "## Prediction Output"
   ]
  },
  {
   "cell_type": "code",
   "execution_count": null,
   "metadata": {},
   "outputs": [],
   "source": [
    "data.to_numpy(dtype=None,copy=False)"
   ]
  },
  {
   "cell_type": "code",
   "execution_count": null,
   "metadata": {},
   "outputs": [],
   "source": [
    "rf.predict(data)"
   ]
  },
  {
   "cell_type": "code",
   "execution_count": null,
   "metadata": {},
   "outputs": [],
   "source": [
    "## rf.predict on the array that we build to predict.\n"
   ]
  }
 ],
 "metadata": {
  "kernelspec": {
   "display_name": "Python [conda env:PythonAdv] *",
   "language": "python",
   "name": "conda-env-PythonAdv-py"
  },
  "language_info": {
   "codemirror_mode": {
    "name": "ipython",
    "version": 3
   },
   "file_extension": ".py",
   "mimetype": "text/x-python",
   "name": "python",
   "nbconvert_exporter": "python",
   "pygments_lexer": "ipython3",
   "version": "3.6.12"
  },
  "varInspector": {
   "cols": {
    "lenName": 16,
    "lenType": 16,
    "lenVar": 40
   },
   "kernels_config": {
    "python": {
     "delete_cmd_postfix": "",
     "delete_cmd_prefix": "del ",
     "library": "var_list.py",
     "varRefreshCmd": "print(var_dic_list())"
    },
    "r": {
     "delete_cmd_postfix": ") ",
     "delete_cmd_prefix": "rm(",
     "library": "var_list.r",
     "varRefreshCmd": "cat(var_dic_list()) "
    }
   },
   "types_to_exclude": [
    "module",
    "function",
    "builtin_function_or_method",
    "instance",
    "_Feature"
   ],
   "window_display": false
  }
 },
 "nbformat": 4,
 "nbformat_minor": 2
}

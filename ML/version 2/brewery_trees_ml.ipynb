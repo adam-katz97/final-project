{
 "cells": [
  {
   "cell_type": "code",
   "execution_count": 1,
   "metadata": {},
   "outputs": [],
   "source": [
    "from sklearn import tree\n",
    "import pandas as pd\n",
    "import os"
   ]
  },
  {
   "cell_type": "code",
   "execution_count": 2,
   "metadata": {},
   "outputs": [
    {
     "data": {
      "text/html": [
       "<div>\n",
       "<style scoped>\n",
       "    .dataframe tbody tr th:only-of-type {\n",
       "        vertical-align: middle;\n",
       "    }\n",
       "\n",
       "    .dataframe tbody tr th {\n",
       "        vertical-align: top;\n",
       "    }\n",
       "\n",
       "    .dataframe thead th {\n",
       "        text-align: right;\n",
       "    }\n",
       "</style>\n",
       "<table border=\"1\" class=\"dataframe\">\n",
       "  <thead>\n",
       "    <tr style=\"text-align: right;\">\n",
       "      <th></th>\n",
       "      <th>median_HHI_2019</th>\n",
       "      <th>bach_deg_pct_14to18</th>\n",
       "      <th>pop_density_per_mile</th>\n",
       "      <th>change_in_pop_decade</th>\n",
       "      <th>perc_female</th>\n",
       "      <th>perc_hispanic</th>\n",
       "      <th>brewery_per_1M_people</th>\n",
       "      <th>unemployment_rate</th>\n",
       "      <th>perc_age_25_39</th>\n",
       "      <th>BestList</th>\n",
       "    </tr>\n",
       "  </thead>\n",
       "  <tbody>\n",
       "    <tr>\n",
       "      <th>0</th>\n",
       "      <td>59871</td>\n",
       "      <td>31.3</td>\n",
       "      <td>140.417818</td>\n",
       "      <td>0.18</td>\n",
       "      <td>0.52</td>\n",
       "      <td>0.05</td>\n",
       "      <td>13.438813</td>\n",
       "      <td>2.7</td>\n",
       "      <td>0.17</td>\n",
       "      <td>False</td>\n",
       "    </tr>\n",
       "    <tr>\n",
       "      <th>1</th>\n",
       "      <td>54127</td>\n",
       "      <td>32.4</td>\n",
       "      <td>592.627754</td>\n",
       "      <td>0.00</td>\n",
       "      <td>0.53</td>\n",
       "      <td>0.04</td>\n",
       "      <td>13.665911</td>\n",
       "      <td>2.9</td>\n",
       "      <td>0.21</td>\n",
       "      <td>False</td>\n",
       "    </tr>\n",
       "    <tr>\n",
       "      <th>2</th>\n",
       "      <td>68609</td>\n",
       "      <td>41.7</td>\n",
       "      <td>465.209901</td>\n",
       "      <td>0.10</td>\n",
       "      <td>0.51</td>\n",
       "      <td>0.05</td>\n",
       "      <td>26.816194</td>\n",
       "      <td>2.5</td>\n",
       "      <td>0.21</td>\n",
       "      <td>False</td>\n",
       "    </tr>\n",
       "    <tr>\n",
       "      <th>3</th>\n",
       "      <td>49492</td>\n",
       "      <td>22.9</td>\n",
       "      <td>336.097476</td>\n",
       "      <td>0.00</td>\n",
       "      <td>0.53</td>\n",
       "      <td>0.03</td>\n",
       "      <td>9.680308</td>\n",
       "      <td>3.7</td>\n",
       "      <td>0.20</td>\n",
       "      <td>False</td>\n",
       "    </tr>\n",
       "    <tr>\n",
       "      <th>4</th>\n",
       "      <td>52307</td>\n",
       "      <td>30.3</td>\n",
       "      <td>158.391684</td>\n",
       "      <td>0.07</td>\n",
       "      <td>0.52</td>\n",
       "      <td>0.04</td>\n",
       "      <td>14.329727</td>\n",
       "      <td>2.7</td>\n",
       "      <td>0.21</td>\n",
       "      <td>False</td>\n",
       "    </tr>\n",
       "  </tbody>\n",
       "</table>\n",
       "</div>"
      ],
      "text/plain": [
       "   median_HHI_2019  bach_deg_pct_14to18  pop_density_per_mile  \\\n",
       "0            59871                 31.3            140.417818   \n",
       "1            54127                 32.4            592.627754   \n",
       "2            68609                 41.7            465.209901   \n",
       "3            49492                 22.9            336.097476   \n",
       "4            52307                 30.3            158.391684   \n",
       "\n",
       "   change_in_pop_decade  perc_female  perc_hispanic  brewery_per_1M_people  \\\n",
       "0                  0.18         0.52           0.05              13.438813   \n",
       "1                  0.00         0.53           0.04              13.665911   \n",
       "2                  0.10         0.51           0.05              26.816194   \n",
       "3                  0.00         0.53           0.03               9.680308   \n",
       "4                  0.07         0.52           0.04              14.329727   \n",
       "\n",
       "   unemployment_rate  perc_age_25_39  BestList  \n",
       "0                2.7            0.17     False  \n",
       "1                2.9            0.21     False  \n",
       "2                2.5            0.21     False  \n",
       "3                3.7            0.20     False  \n",
       "4                2.7            0.21     False  "
      ]
     },
     "execution_count": 2,
     "metadata": {},
     "output_type": "execute_result"
    }
   ],
   "source": [
    "df = pd.read_csv(os.path.join(\"data_county_ml_v2_best.csv\"))\n",
    "df.head()"
   ]
  },
  {
   "cell_type": "code",
   "execution_count": 3,
   "metadata": {},
   "outputs": [],
   "source": [
    "target = df[\"BestList\"]\n",
    "target_names = [\"no\", \"yes\"]"
   ]
  },
  {
   "cell_type": "code",
   "execution_count": 4,
   "metadata": {},
   "outputs": [
    {
     "data": {
      "text/html": [
       "<div>\n",
       "<style scoped>\n",
       "    .dataframe tbody tr th:only-of-type {\n",
       "        vertical-align: middle;\n",
       "    }\n",
       "\n",
       "    .dataframe tbody tr th {\n",
       "        vertical-align: top;\n",
       "    }\n",
       "\n",
       "    .dataframe thead th {\n",
       "        text-align: right;\n",
       "    }\n",
       "</style>\n",
       "<table border=\"1\" class=\"dataframe\">\n",
       "  <thead>\n",
       "    <tr style=\"text-align: right;\">\n",
       "      <th></th>\n",
       "      <th>median_HHI_2019</th>\n",
       "      <th>bach_deg_pct_14to18</th>\n",
       "      <th>pop_density_per_mile</th>\n",
       "      <th>change_in_pop_decade</th>\n",
       "      <th>perc_female</th>\n",
       "      <th>perc_hispanic</th>\n",
       "      <th>brewery_per_1M_people</th>\n",
       "      <th>unemployment_rate</th>\n",
       "      <th>perc_age_25_39</th>\n",
       "    </tr>\n",
       "  </thead>\n",
       "  <tbody>\n",
       "    <tr>\n",
       "      <th>0</th>\n",
       "      <td>59871</td>\n",
       "      <td>31.3</td>\n",
       "      <td>140.417818</td>\n",
       "      <td>0.18</td>\n",
       "      <td>0.52</td>\n",
       "      <td>0.05</td>\n",
       "      <td>13.438813</td>\n",
       "      <td>2.7</td>\n",
       "      <td>0.17</td>\n",
       "    </tr>\n",
       "    <tr>\n",
       "      <th>1</th>\n",
       "      <td>54127</td>\n",
       "      <td>32.4</td>\n",
       "      <td>592.627754</td>\n",
       "      <td>0.00</td>\n",
       "      <td>0.53</td>\n",
       "      <td>0.04</td>\n",
       "      <td>13.665911</td>\n",
       "      <td>2.9</td>\n",
       "      <td>0.21</td>\n",
       "    </tr>\n",
       "    <tr>\n",
       "      <th>2</th>\n",
       "      <td>68609</td>\n",
       "      <td>41.7</td>\n",
       "      <td>465.209901</td>\n",
       "      <td>0.10</td>\n",
       "      <td>0.51</td>\n",
       "      <td>0.05</td>\n",
       "      <td>26.816194</td>\n",
       "      <td>2.5</td>\n",
       "      <td>0.21</td>\n",
       "    </tr>\n",
       "    <tr>\n",
       "      <th>3</th>\n",
       "      <td>49492</td>\n",
       "      <td>22.9</td>\n",
       "      <td>336.097476</td>\n",
       "      <td>0.00</td>\n",
       "      <td>0.53</td>\n",
       "      <td>0.03</td>\n",
       "      <td>9.680308</td>\n",
       "      <td>3.7</td>\n",
       "      <td>0.20</td>\n",
       "    </tr>\n",
       "    <tr>\n",
       "      <th>4</th>\n",
       "      <td>52307</td>\n",
       "      <td>30.3</td>\n",
       "      <td>158.391684</td>\n",
       "      <td>0.07</td>\n",
       "      <td>0.52</td>\n",
       "      <td>0.04</td>\n",
       "      <td>14.329727</td>\n",
       "      <td>2.7</td>\n",
       "      <td>0.21</td>\n",
       "    </tr>\n",
       "  </tbody>\n",
       "</table>\n",
       "</div>"
      ],
      "text/plain": [
       "   median_HHI_2019  bach_deg_pct_14to18  pop_density_per_mile  \\\n",
       "0            59871                 31.3            140.417818   \n",
       "1            54127                 32.4            592.627754   \n",
       "2            68609                 41.7            465.209901   \n",
       "3            49492                 22.9            336.097476   \n",
       "4            52307                 30.3            158.391684   \n",
       "\n",
       "   change_in_pop_decade  perc_female  perc_hispanic  brewery_per_1M_people  \\\n",
       "0                  0.18         0.52           0.05              13.438813   \n",
       "1                  0.00         0.53           0.04              13.665911   \n",
       "2                  0.10         0.51           0.05              26.816194   \n",
       "3                  0.00         0.53           0.03               9.680308   \n",
       "4                  0.07         0.52           0.04              14.329727   \n",
       "\n",
       "   unemployment_rate  perc_age_25_39  \n",
       "0                2.7            0.17  \n",
       "1                2.9            0.21  \n",
       "2                2.5            0.21  \n",
       "3                3.7            0.20  \n",
       "4                2.7            0.21  "
      ]
     },
     "execution_count": 4,
     "metadata": {},
     "output_type": "execute_result"
    }
   ],
   "source": [
    "data = df.drop(\"BestList\", axis=1)\n",
    "feature_names = data.columns\n",
    "data.head()"
   ]
  },
  {
   "cell_type": "code",
   "execution_count": 5,
   "metadata": {},
   "outputs": [],
   "source": [
    "# data.replace([data.inf, -data.inf], data.nan, inplace=True)"
   ]
  },
  {
   "cell_type": "code",
   "execution_count": 6,
   "metadata": {},
   "outputs": [],
   "source": [
    "data.fillna(data.mean(), inplace=True)"
   ]
  },
  {
   "cell_type": "code",
   "execution_count": 7,
   "metadata": {},
   "outputs": [],
   "source": [
    "from sklearn.model_selection import train_test_split\n",
    "X_train, X_test, y_train, y_test = train_test_split(data, target, random_state=42)"
   ]
  },
  {
   "cell_type": "code",
   "execution_count": 8,
   "metadata": {},
   "outputs": [
    {
     "data": {
      "text/plain": [
       "1.0"
      ]
     },
     "execution_count": 8,
     "metadata": {},
     "output_type": "execute_result"
    }
   ],
   "source": [
    "clf = tree.DecisionTreeClassifier()\n",
    "clf = clf.fit(X_train, y_train)\n",
    "clf.score(X_test, y_test)"
   ]
  },
  {
   "cell_type": "code",
   "execution_count": 9,
   "metadata": {},
   "outputs": [
    {
     "data": {
      "text/plain": [
       "1.0"
      ]
     },
     "execution_count": 9,
     "metadata": {},
     "output_type": "execute_result"
    }
   ],
   "source": [
    "from sklearn.ensemble import RandomForestClassifier\n",
    "rf = RandomForestClassifier(n_estimators=200)\n",
    "rf = rf.fit(X_train, y_train)\n",
    "rf.score(X_test, y_test)"
   ]
  },
  {
   "cell_type": "code",
   "execution_count": 10,
   "metadata": {},
   "outputs": [
    {
     "data": {
      "text/plain": [
       "[(0.23639818714983973, 'bach_deg_pct_14to18'),\n",
       " (0.17315050913635924, 'median_HHI_2019'),\n",
       " (0.1488889468960176, 'pop_density_per_mile'),\n",
       " (0.13906692128103493, 'change_in_pop_decade'),\n",
       " (0.10873752132439735, 'brewery_per_1M_people'),\n",
       " (0.0771947065494943, 'perc_hispanic'),\n",
       " (0.06206778861329827, 'unemployment_rate'),\n",
       " (0.029737641283304604, 'perc_age_25_39'),\n",
       " (0.024757777766254083, 'perc_female')]"
      ]
     },
     "execution_count": 10,
     "metadata": {},
     "output_type": "execute_result"
    }
   ],
   "source": [
    "sorted(zip(rf.feature_importances_, feature_names), reverse=True)"
   ]
  },
  {
   "cell_type": "code",
   "execution_count": null,
   "metadata": {},
   "outputs": [],
   "source": [
    "## rf.predict on the array that we build to predict.\n"
   ]
  }
 ],
 "metadata": {
  "kernelspec": {
   "display_name": "Python [conda env:PythonAdv] *",
   "language": "python",
   "name": "conda-env-PythonAdv-py"
  },
  "language_info": {
   "codemirror_mode": {
    "name": "ipython",
    "version": 3
   },
   "file_extension": ".py",
   "mimetype": "text/x-python",
   "name": "python",
   "nbconvert_exporter": "python",
   "pygments_lexer": "ipython3",
   "version": "3.6.12"
  },
  "varInspector": {
   "cols": {
    "lenName": 16,
    "lenType": 16,
    "lenVar": 40
   },
   "kernels_config": {
    "python": {
     "delete_cmd_postfix": "",
     "delete_cmd_prefix": "del ",
     "library": "var_list.py",
     "varRefreshCmd": "print(var_dic_list())"
    },
    "r": {
     "delete_cmd_postfix": ") ",
     "delete_cmd_prefix": "rm(",
     "library": "var_list.r",
     "varRefreshCmd": "cat(var_dic_list()) "
    }
   },
   "types_to_exclude": [
    "module",
    "function",
    "builtin_function_or_method",
    "instance",
    "_Feature"
   ],
   "window_display": false
  }
 },
 "nbformat": 4,
 "nbformat_minor": 2
}

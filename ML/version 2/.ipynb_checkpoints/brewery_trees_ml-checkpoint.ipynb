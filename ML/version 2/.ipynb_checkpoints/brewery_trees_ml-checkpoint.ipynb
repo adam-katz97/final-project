{
 "cells": [
  {
   "cell_type": "code",
   "execution_count": 37,
   "metadata": {},
   "outputs": [],
   "source": [
    "from sklearn import tree\n",
    "import pandas as pd\n",
    "import os\n",
    "\n",
    "# Inclusion of code for Permutational importance per dan\n",
    "from sklearn.inspection import permutation_importance\n"
   ]
  },
  {
   "cell_type": "code",
   "execution_count": 38,
   "metadata": {},
   "outputs": [
    {
     "data": {
      "text/html": [
       "<div>\n",
       "<style scoped>\n",
       "    .dataframe tbody tr th:only-of-type {\n",
       "        vertical-align: middle;\n",
       "    }\n",
       "\n",
       "    .dataframe tbody tr th {\n",
       "        vertical-align: top;\n",
       "    }\n",
       "\n",
       "    .dataframe thead th {\n",
       "        text-align: right;\n",
       "    }\n",
       "</style>\n",
       "<table border=\"1\" class=\"dataframe\">\n",
       "  <thead>\n",
       "    <tr style=\"text-align: right;\">\n",
       "      <th></th>\n",
       "      <th>median_HHI_2019</th>\n",
       "      <th>bach_deg_pct_14to18</th>\n",
       "      <th>pop_density_per_mile</th>\n",
       "      <th>change_in_pop_decade</th>\n",
       "      <th>perc_female</th>\n",
       "      <th>perc_hispanic</th>\n",
       "      <th>brewery_per_1M_people</th>\n",
       "      <th>unemployment_rate</th>\n",
       "      <th>perc_age_25_39</th>\n",
       "      <th>BestList</th>\n",
       "    </tr>\n",
       "  </thead>\n",
       "  <tbody>\n",
       "    <tr>\n",
       "      <th>0</th>\n",
       "      <td>59871</td>\n",
       "      <td>31.3</td>\n",
       "      <td>140.417818</td>\n",
       "      <td>0.18</td>\n",
       "      <td>0.52</td>\n",
       "      <td>0.05</td>\n",
       "      <td>13.438813</td>\n",
       "      <td>2.7</td>\n",
       "      <td>0.17</td>\n",
       "      <td>False</td>\n",
       "    </tr>\n",
       "    <tr>\n",
       "      <th>1</th>\n",
       "      <td>54127</td>\n",
       "      <td>32.4</td>\n",
       "      <td>592.627754</td>\n",
       "      <td>0.00</td>\n",
       "      <td>0.53</td>\n",
       "      <td>0.04</td>\n",
       "      <td>13.665911</td>\n",
       "      <td>2.9</td>\n",
       "      <td>0.21</td>\n",
       "      <td>False</td>\n",
       "    </tr>\n",
       "    <tr>\n",
       "      <th>2</th>\n",
       "      <td>68609</td>\n",
       "      <td>41.7</td>\n",
       "      <td>465.209901</td>\n",
       "      <td>0.10</td>\n",
       "      <td>0.51</td>\n",
       "      <td>0.05</td>\n",
       "      <td>26.816194</td>\n",
       "      <td>2.5</td>\n",
       "      <td>0.21</td>\n",
       "      <td>False</td>\n",
       "    </tr>\n",
       "    <tr>\n",
       "      <th>3</th>\n",
       "      <td>49492</td>\n",
       "      <td>22.9</td>\n",
       "      <td>336.097476</td>\n",
       "      <td>0.00</td>\n",
       "      <td>0.53</td>\n",
       "      <td>0.03</td>\n",
       "      <td>9.680308</td>\n",
       "      <td>3.7</td>\n",
       "      <td>0.20</td>\n",
       "      <td>False</td>\n",
       "    </tr>\n",
       "    <tr>\n",
       "      <th>4</th>\n",
       "      <td>52307</td>\n",
       "      <td>30.3</td>\n",
       "      <td>158.391684</td>\n",
       "      <td>0.07</td>\n",
       "      <td>0.52</td>\n",
       "      <td>0.04</td>\n",
       "      <td>14.329727</td>\n",
       "      <td>2.7</td>\n",
       "      <td>0.21</td>\n",
       "      <td>False</td>\n",
       "    </tr>\n",
       "  </tbody>\n",
       "</table>\n",
       "</div>"
      ],
      "text/plain": [
       "   median_HHI_2019  bach_deg_pct_14to18  pop_density_per_mile  \\\n",
       "0            59871                 31.3            140.417818   \n",
       "1            54127                 32.4            592.627754   \n",
       "2            68609                 41.7            465.209901   \n",
       "3            49492                 22.9            336.097476   \n",
       "4            52307                 30.3            158.391684   \n",
       "\n",
       "   change_in_pop_decade  perc_female  perc_hispanic  brewery_per_1M_people  \\\n",
       "0                  0.18         0.52           0.05              13.438813   \n",
       "1                  0.00         0.53           0.04              13.665911   \n",
       "2                  0.10         0.51           0.05              26.816194   \n",
       "3                  0.00         0.53           0.03               9.680308   \n",
       "4                  0.07         0.52           0.04              14.329727   \n",
       "\n",
       "   unemployment_rate  perc_age_25_39  BestList  \n",
       "0                2.7            0.17     False  \n",
       "1                2.9            0.21     False  \n",
       "2                2.5            0.21     False  \n",
       "3                3.7            0.20     False  \n",
       "4                2.7            0.21     False  "
      ]
     },
     "execution_count": 38,
     "metadata": {},
     "output_type": "execute_result"
    }
   ],
   "source": [
    "df = pd.read_csv(os.path.join(\"data_county_ml_v2_best.csv\"))\n",
    "df.head()"
   ]
  },
  {
   "cell_type": "code",
   "execution_count": 39,
   "metadata": {},
   "outputs": [],
   "source": [
    "target = df[\"BestList\"]\n",
    "target_names = [\"no\", \"yes\"]"
   ]
  },
  {
   "cell_type": "code",
   "execution_count": 40,
   "metadata": {},
   "outputs": [
    {
     "data": {
      "text/html": [
       "<div>\n",
       "<style scoped>\n",
       "    .dataframe tbody tr th:only-of-type {\n",
       "        vertical-align: middle;\n",
       "    }\n",
       "\n",
       "    .dataframe tbody tr th {\n",
       "        vertical-align: top;\n",
       "    }\n",
       "\n",
       "    .dataframe thead th {\n",
       "        text-align: right;\n",
       "    }\n",
       "</style>\n",
       "<table border=\"1\" class=\"dataframe\">\n",
       "  <thead>\n",
       "    <tr style=\"text-align: right;\">\n",
       "      <th></th>\n",
       "      <th>median_HHI_2019</th>\n",
       "      <th>bach_deg_pct_14to18</th>\n",
       "      <th>pop_density_per_mile</th>\n",
       "      <th>change_in_pop_decade</th>\n",
       "      <th>perc_female</th>\n",
       "      <th>perc_hispanic</th>\n",
       "      <th>brewery_per_1M_people</th>\n",
       "      <th>unemployment_rate</th>\n",
       "      <th>perc_age_25_39</th>\n",
       "    </tr>\n",
       "  </thead>\n",
       "  <tbody>\n",
       "    <tr>\n",
       "      <th>0</th>\n",
       "      <td>59871</td>\n",
       "      <td>31.3</td>\n",
       "      <td>140.417818</td>\n",
       "      <td>0.18</td>\n",
       "      <td>0.52</td>\n",
       "      <td>0.05</td>\n",
       "      <td>13.438813</td>\n",
       "      <td>2.7</td>\n",
       "      <td>0.17</td>\n",
       "    </tr>\n",
       "    <tr>\n",
       "      <th>1</th>\n",
       "      <td>54127</td>\n",
       "      <td>32.4</td>\n",
       "      <td>592.627754</td>\n",
       "      <td>0.00</td>\n",
       "      <td>0.53</td>\n",
       "      <td>0.04</td>\n",
       "      <td>13.665911</td>\n",
       "      <td>2.9</td>\n",
       "      <td>0.21</td>\n",
       "    </tr>\n",
       "    <tr>\n",
       "      <th>2</th>\n",
       "      <td>68609</td>\n",
       "      <td>41.7</td>\n",
       "      <td>465.209901</td>\n",
       "      <td>0.10</td>\n",
       "      <td>0.51</td>\n",
       "      <td>0.05</td>\n",
       "      <td>26.816194</td>\n",
       "      <td>2.5</td>\n",
       "      <td>0.21</td>\n",
       "    </tr>\n",
       "    <tr>\n",
       "      <th>3</th>\n",
       "      <td>49492</td>\n",
       "      <td>22.9</td>\n",
       "      <td>336.097476</td>\n",
       "      <td>0.00</td>\n",
       "      <td>0.53</td>\n",
       "      <td>0.03</td>\n",
       "      <td>9.680308</td>\n",
       "      <td>3.7</td>\n",
       "      <td>0.20</td>\n",
       "    </tr>\n",
       "    <tr>\n",
       "      <th>4</th>\n",
       "      <td>52307</td>\n",
       "      <td>30.3</td>\n",
       "      <td>158.391684</td>\n",
       "      <td>0.07</td>\n",
       "      <td>0.52</td>\n",
       "      <td>0.04</td>\n",
       "      <td>14.329727</td>\n",
       "      <td>2.7</td>\n",
       "      <td>0.21</td>\n",
       "    </tr>\n",
       "  </tbody>\n",
       "</table>\n",
       "</div>"
      ],
      "text/plain": [
       "   median_HHI_2019  bach_deg_pct_14to18  pop_density_per_mile  \\\n",
       "0            59871                 31.3            140.417818   \n",
       "1            54127                 32.4            592.627754   \n",
       "2            68609                 41.7            465.209901   \n",
       "3            49492                 22.9            336.097476   \n",
       "4            52307                 30.3            158.391684   \n",
       "\n",
       "   change_in_pop_decade  perc_female  perc_hispanic  brewery_per_1M_people  \\\n",
       "0                  0.18         0.52           0.05              13.438813   \n",
       "1                  0.00         0.53           0.04              13.665911   \n",
       "2                  0.10         0.51           0.05              26.816194   \n",
       "3                  0.00         0.53           0.03               9.680308   \n",
       "4                  0.07         0.52           0.04              14.329727   \n",
       "\n",
       "   unemployment_rate  perc_age_25_39  \n",
       "0                2.7            0.17  \n",
       "1                2.9            0.21  \n",
       "2                2.5            0.21  \n",
       "3                3.7            0.20  \n",
       "4                2.7            0.21  "
      ]
     },
     "execution_count": 40,
     "metadata": {},
     "output_type": "execute_result"
    }
   ],
   "source": [
    "data = df.drop(\"BestList\", axis=1)\n",
    "feature_names = data.columns\n",
    "data.head()"
   ]
  },
  {
   "cell_type": "code",
   "execution_count": 41,
   "metadata": {},
   "outputs": [],
   "source": [
    "# data.replace([data.inf, -data.inf], data.nan, inplace=True)"
   ]
  },
  {
   "cell_type": "code",
   "execution_count": 42,
   "metadata": {},
   "outputs": [],
   "source": [
    "data.fillna(data.mean(), inplace=True)"
   ]
  },
  {
   "cell_type": "code",
   "execution_count": 43,
   "metadata": {},
   "outputs": [],
   "source": [
    "from sklearn.model_selection import train_test_split\n",
    "X_train, X_test, y_train, y_test = train_test_split(data, target, random_state=42)"
   ]
  },
  {
   "cell_type": "code",
   "execution_count": 44,
   "metadata": {},
   "outputs": [
    {
     "data": {
      "text/plain": [
       "1.0"
      ]
     },
     "execution_count": 44,
     "metadata": {},
     "output_type": "execute_result"
    }
   ],
   "source": [
    "clf = tree.DecisionTreeClassifier()\n",
    "clf = clf.fit(X_train, y_train)\n",
    "clf.score(X_test, y_test)"
   ]
  },
  {
   "cell_type": "code",
   "execution_count": 45,
   "metadata": {},
   "outputs": [
    {
     "data": {
      "text/plain": [
       "1.0"
      ]
     },
     "execution_count": 45,
     "metadata": {},
     "output_type": "execute_result"
    }
   ],
   "source": [
    "from sklearn.ensemble import RandomForestClassifier\n",
    "rf = RandomForestClassifier(n_estimators=200)\n",
    "rf = rf.fit(X_train, y_train)\n",
    "rf.score(X_test, y_test)"
   ]
  },
  {
   "cell_type": "code",
   "execution_count": 46,
   "metadata": {},
   "outputs": [
    {
     "data": {
      "text/plain": [
       "[(0.21723705526814427, 'bach_deg_pct_14to18'),\n",
       " (0.1803663788771541, 'median_HHI_2019'),\n",
       " (0.12096302634333989, 'pop_density_per_mile'),\n",
       " (0.11661893648104099, 'brewery_per_1M_people'),\n",
       " (0.11065233497347325, 'change_in_pop_decade'),\n",
       " (0.07910512059820426, 'unemployment_rate'),\n",
       " (0.07656774787338755, 'perc_hispanic'),\n",
       " (0.06342763817354091, 'perc_age_25_39'),\n",
       " (0.0350617614117148, 'perc_female')]"
      ]
     },
     "execution_count": 46,
     "metadata": {},
     "output_type": "execute_result"
    }
   ],
   "source": [
    "sorted(zip(rf.feature_importances_, feature_names), reverse=True)"
   ]
  },
  {
   "cell_type": "markdown",
   "metadata": {},
   "source": [
    "## Comparision of Calibration of Classifiers"
   ]
  },
  {
   "cell_type": "code",
   "execution_count": 49,
   "metadata": {},
   "outputs": [
    {
     "name": "stdout",
     "output_type": "stream",
     "text": [
      "Automatically created module for IPython interactive environment\n"
     ]
    },
    {
     "name": "stderr",
     "output_type": "stream",
     "text": [
      "C:\\Users\\zach-\\anaconda3\\envs\\PythonAdv\\lib\\site-packages\\sklearn\\linear_model\\_logistic.py:764: ConvergenceWarning: lbfgs failed to converge (status=1):\n",
      "STOP: TOTAL NO. of ITERATIONS REACHED LIMIT.\n",
      "\n",
      "Increase the number of iterations (max_iter) or scale the data as shown in:\n",
      "    https://scikit-learn.org/stable/modules/preprocessing.html\n",
      "Please also refer to the documentation for alternative solver options:\n",
      "    https://scikit-learn.org/stable/modules/linear_model.html#logistic-regression\n",
      "  extra_warning_msg=_LOGISTIC_SOLVER_CONVERGENCE_MSG)\n",
      "C:\\Users\\zach-\\anaconda3\\envs\\PythonAdv\\lib\\site-packages\\sklearn\\svm\\_base.py:977: ConvergenceWarning: Liblinear failed to converge, increase the number of iterations.\n",
      "  \"the number of iterations.\", ConvergenceWarning)\n"
     ]
    },
    {
     "data": {
      "image/png": "[encoded data removed]",
      "text/plain": [
       "<Figure size 720x720 with 2 Axes>"
      ]
     },
     "metadata": {
      "needs_background": "light"
     },
     "output_type": "display_data"
    }
   ],
   "source": [
    "print(__doc__)\n",
    "\n",
    "# Author: Jan Hendrik Metzen <jhm@informatik.uni-bremen.de>\n",
    "# License: BSD Style.\n",
    "\n",
    "import numpy as np\n",
    "np.random.seed(0)\n",
    "\n",
    "import matplotlib.pyplot as plt\n",
    "\n",
    "from sklearn import datasets\n",
    "from sklearn.naive_bayes import GaussianNB\n",
    "from sklearn.linear_model import LogisticRegression\n",
    "from sklearn.ensemble import RandomForestClassifier\n",
    "from sklearn.svm import LinearSVC\n",
    "from sklearn.calibration import calibration_curve\n",
    "\n",
    "# X, y = datasets.make_classification(n_samples=100000, n_features=20,\n",
    "#                                     n_informative=2, n_redundant=2)\n",
    "\n",
    "# train_samples = 100  # Samples used for training the models\n",
    "\n",
    "# X_train = X[:train_samples]\n",
    "# X_test = X[train_samples:]\n",
    "# y_train = y[:train_samples]\n",
    "# y_test = y[train_samples:]\n",
    "\n",
    "# Create classifiers\n",
    "lr = LogisticRegression()\n",
    "gnb = GaussianNB()\n",
    "svc = LinearSVC(C=1.0)\n",
    "rfc = RandomForestClassifier()\n",
    "\n",
    "\n",
    "# #############################################################################\n",
    "# Plot calibration plots\n",
    "\n",
    "plt.figure(figsize=(10, 10))\n",
    "ax1 = plt.subplot2grid((3, 1), (0, 0), rowspan=2)\n",
    "ax2 = plt.subplot2grid((3, 1), (2, 0))\n",
    "\n",
    "ax1.plot([0, 1], [0, 1], \"k:\", label=\"Perfectly calibrated\")\n",
    "for clf, name in [(lr, 'Logistic'),\n",
    "                  (gnb, 'Naive Bayes'),\n",
    "                  (svc, 'Support Vector Classification'),\n",
    "                  (rfc, 'Random Forest')]:\n",
    "    clf.fit(X_train, y_train)\n",
    "    if hasattr(clf, \"predict_proba\"):\n",
    "        prob_pos = clf.predict_proba(X_test)[:, 1]\n",
    "    else:  # use decision function\n",
    "        prob_pos = clf.decision_function(X_test)\n",
    "        prob_pos = \\\n",
    "            (prob_pos - prob_pos.min()) / (prob_pos.max() - prob_pos.min())\n",
    "    fraction_of_positives, mean_predicted_value = \\\n",
    "        calibration_curve(y_test, prob_pos, n_bins=10)\n",
    "\n",
    "    ax1.plot(mean_predicted_value, fraction_of_positives, \"s-\",\n",
    "             label=\"%s\" % (name, ))\n",
    "\n",
    "    ax2.hist(prob_pos, range=(0, 1), bins=10, label=name,\n",
    "             histtype=\"step\", lw=2)\n",
    "\n",
    "ax1.set_ylabel(\"Fraction of positives\")\n",
    "ax1.set_ylim([-0.05, 1.05])\n",
    "ax1.legend(loc=\"lower right\")\n",
    "ax1.set_title('Calibration plots  (reliability curve)')\n",
    "\n",
    "ax2.set_xlabel(\"Mean predicted value\")\n",
    "ax2.set_ylabel(\"Count\")\n",
    "ax2.legend(loc=\"upper center\", ncol=2)\n",
    "\n",
    "plt.tight_layout()\n",
    "plt.show()"
   ]
  },
  {
   "cell_type": "markdown",
   "metadata": {},
   "source": [
    "# Permutation Importance Model\n"
   ]
  },
  {
   "cell_type": "code",
   "execution_count": 31,
   "metadata": {},
   "outputs": [],
   "source": [
    "# rf is the random forest model, for X you can use X or X_train, and the corresponding y (/y_train)\n",
    "result = permutation_importance(rf, X_train, y_train, random_state=0)"
   ]
  },
  {
   "cell_type": "code",
   "execution_count": 32,
   "metadata": {},
   "outputs": [
    {
     "data": {
      "text/plain": [
       "[(0.004618937644341847, 'bach_deg_pct_14to18'),\n",
       " (0.004157043879907651, 'unemployment_rate'),\n",
       " (0.003233256351039282, 'change_in_pop_decade'),\n",
       " (0.0018475750577366945, 'median_HHI_2019'),\n",
       " (0.0013856812933025209, 'perc_hispanic'),\n",
       " (0.0009237875288683473, 'brewery_per_1M_people'),\n",
       " (0.0, 'pop_density_per_mile'),\n",
       " (0.0, 'perc_female'),\n",
       " (0.0, 'perc_age_25_39')]"
      ]
     },
     "execution_count": 32,
     "metadata": {},
     "output_type": "execute_result"
    }
   ],
   "source": [
    "# then you can use the importances_mean like your importances from your model\n",
    "sorted(zip(result.importances_mean, feature_names), reverse=True)"
   ]
  },
  {
   "cell_type": "markdown",
   "metadata": {},
   "source": [
    "## Prediction Output"
   ]
  },
  {
   "cell_type": "code",
   "execution_count": 51,
   "metadata": {},
   "outputs": [
    {
     "data": {
      "text/plain": [
       "array([[5.98710000e+04, 3.13000000e+01, 1.40417818e+02, ...,\n",
       "        1.34388131e+01, 2.70000000e+00, 1.70000000e-01],\n",
       "       [5.41270000e+04, 3.24000000e+01, 5.92627754e+02, ...,\n",
       "        1.36659110e+01, 2.90000000e+00, 2.10000000e-01],\n",
       "       [6.86090000e+04, 4.17000000e+01, 4.65209901e+02, ...,\n",
       "        2.68161938e+01, 2.50000000e+00, 2.10000000e-01],\n",
       "       ...,\n",
       "       [5.94940000e+04, 3.21000000e+01, 4.20536906e+00, ...,\n",
       "        1.02760841e+02, 4.00000000e+00, 1.70000000e-01],\n",
       "       [6.40300000e+04, 3.00000000e+01, 1.20780842e+01, ...,\n",
       "        9.84090536e+01, 3.50000000e+00, 1.80000000e-01],\n",
       "       [9.88370000e+04, 5.74000000e+01, 5.87278453e+00, ...,\n",
       "        1.70473917e+02, 2.70000000e+00, 2.50000000e-01]])"
      ]
     },
     "execution_count": 51,
     "metadata": {},
     "output_type": "execute_result"
    }
   ],
   "source": [
    "data.to_numpy(dtype=None,copy=False)"
   ]
  },
  {
   "cell_type": "code",
   "execution_count": 55,
   "metadata": {},
   "outputs": [
    {
     "data": {
      "text/plain": [
       "array([False, False, False, False, False, False, False, False, False,\n",
       "       False, False, False, False, False, False, False, False, False,\n",
       "       False, False, False, False, False, False, False, False, False,\n",
       "       False, False, False, False, False, False, False, False, False,\n",
       "       False, False, False, False, False, False, False, False, False,\n",
       "       False, False, False, False, False, False, False, False, False,\n",
       "       False, False, False, False, False, False, False, False, False,\n",
       "       False, False, False, False, False, False, False, False, False,\n",
       "       False, False, False, False, False, False, False, False, False,\n",
       "       False, False, False, False, False, False, False, False, False,\n",
       "       False, False, False, False, False, False, False, False, False,\n",
       "       False, False, False, False, False, False, False, False, False,\n",
       "       False, False, False, False, False, False, False, False, False,\n",
       "       False, False, False, False, False, False, False, False, False,\n",
       "       False, False, False, False, False, False, False, False, False,\n",
       "       False, False, False, False, False, False, False, False, False,\n",
       "       False, False, False, False, False, False, False, False, False,\n",
       "       False, False, False, False, False, False, False, False, False,\n",
       "       False, False, False, False, False, False, False, False, False,\n",
       "       False, False, False, False, False, False, False, False, False,\n",
       "       False, False, False, False, False, False, False, False, False,\n",
       "       False, False, False, False, False, False, False, False, False,\n",
       "       False, False, False, False, False, False, False, False, False,\n",
       "       False, False, False, False, False, False, False, False, False,\n",
       "       False, False, False,  True, False, False, False, False, False,\n",
       "       False, False, False, False, False, False, False, False, False,\n",
       "       False, False, False, False, False, False, False, False, False,\n",
       "       False, False, False, False, False, False, False, False, False,\n",
       "       False, False, False, False, False, False, False, False, False,\n",
       "       False, False, False, False, False, False, False, False, False,\n",
       "       False, False, False, False, False, False, False, False, False,\n",
       "       False, False, False, False, False, False, False, False, False,\n",
       "       False, False, False, False, False, False, False, False, False,\n",
       "       False, False, False, False, False, False, False, False, False,\n",
       "       False, False, False, False, False, False, False, False, False,\n",
       "       False, False, False, False, False, False, False, False, False,\n",
       "       False, False, False, False, False, False, False, False, False,\n",
       "       False, False, False, False, False, False, False, False, False,\n",
       "       False, False, False, False, False, False, False, False, False,\n",
       "       False, False, False, False, False, False, False, False, False,\n",
       "       False, False, False, False, False, False, False, False, False,\n",
       "       False, False, False, False, False, False, False, False, False,\n",
       "       False, False, False, False, False, False, False, False, False,\n",
       "       False, False, False, False, False, False, False, False, False,\n",
       "       False, False, False, False, False, False, False, False, False,\n",
       "       False, False, False, False, False, False, False, False, False,\n",
       "       False, False, False, False, False, False, False, False, False,\n",
       "       False, False, False, False, False, False, False, False, False,\n",
       "       False, False, False, False, False, False, False, False, False,\n",
       "       False, False, False, False,  True, False, False, False, False,\n",
       "       False, False, False, False, False, False, False, False, False,\n",
       "       False, False, False, False, False, False, False, False, False,\n",
       "       False, False, False, False, False, False, False, False, False,\n",
       "       False, False, False, False, False, False, False, False, False,\n",
       "       False, False, False, False, False, False, False, False, False,\n",
       "       False, False, False, False, False, False, False, False, False,\n",
       "       False, False, False, False, False, False, False, False, False,\n",
       "       False, False, False, False, False, False, False, False, False,\n",
       "       False, False, False, False, False, False, False, False, False,\n",
       "       False, False, False, False, False, False, False, False, False,\n",
       "       False, False, False, False, False, False, False, False, False,\n",
       "       False, False, False, False, False, False, False, False, False,\n",
       "       False, False, False, False, False, False, False, False, False,\n",
       "       False, False, False, False, False, False, False, False, False,\n",
       "       False, False])"
      ]
     },
     "execution_count": 55,
     "metadata": {},
     "output_type": "execute_result"
    }
   ],
   "source": [
    "rf.predict(data)"
   ]
  },
  {
   "cell_type": "code",
   "execution_count": null,
   "metadata": {},
   "outputs": [],
   "source": [
    "## rf.predict on the array that we build to predict.\n"
   ]
  }
 ],
 "metadata": {
  "kernelspec": {
   "display_name": "Python [conda env:PythonAdv] *",
   "language": "python",
   "name": "conda-env-PythonAdv-py"
  },
  "language_info": {
   "codemirror_mode": {
    "name": "ipython",
    "version": 3
   },
   "file_extension": ".py",
   "mimetype": "text/x-python",
   "name": "python",
   "nbconvert_exporter": "python",
   "pygments_lexer": "ipython3",
   "version": "3.6.12"
  },
  "varInspector": {
   "cols": {
    "lenName": 16,
    "lenType": 16,
    "lenVar": 40
   },
   "kernels_config": {
    "python": {
     "delete_cmd_postfix": "",
     "delete_cmd_prefix": "del ",
     "library": "var_list.py",
     "varRefreshCmd": "print(var_dic_list())"
    },
    "r": {
     "delete_cmd_postfix": ") ",
     "delete_cmd_prefix": "rm(",
     "library": "var_list.r",
     "varRefreshCmd": "cat(var_dic_list()) "
    }
   },
   "types_to_exclude": [
    "module",
    "function",
    "builtin_function_or_method",
    "instance",
    "_Feature"
   ],
   "window_display": false
  }
 },
 "nbformat": 4,
 "nbformat_minor": 2
}

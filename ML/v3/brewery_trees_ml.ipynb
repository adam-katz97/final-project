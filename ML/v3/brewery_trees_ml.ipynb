{
 "cells": [
  {
   "cell_type": "code",
   "execution_count": 1,
   "metadata": {},
   "outputs": [],
   "source": [
    "from sklearn import tree\n",
    "import pandas as pd\n",
    "import os\n",
    "\n",
    "# Inclusion of code for Permutational importance per dan\n",
    "from sklearn.inspection import permutation_importance\n"
   ]
  },
  {
   "cell_type": "code",
   "execution_count": 2,
   "metadata": {},
   "outputs": [
    {
     "data": {
      "text/html": [
       "<div>\n",
       "<style scoped>\n",
       "    .dataframe tbody tr th:only-of-type {\n",
       "        vertical-align: middle;\n",
       "    }\n",
       "\n",
       "    .dataframe tbody tr th {\n",
       "        vertical-align: top;\n",
       "    }\n",
       "\n",
       "    .dataframe thead th {\n",
       "        text-align: right;\n",
       "    }\n",
       "</style>\n",
       "<table border=\"1\" class=\"dataframe\">\n",
       "  <thead>\n",
       "    <tr style=\"text-align: right;\">\n",
       "      <th></th>\n",
       "      <th>BestList</th>\n",
       "      <th>median_HHI_2019</th>\n",
       "      <th>bach_deg_pct_14to18</th>\n",
       "      <th>pop_density_per_mile</th>\n",
       "      <th>change_in_pop_decade</th>\n",
       "      <th>perc_female</th>\n",
       "      <th>perc_hispanic</th>\n",
       "      <th>unemployment_rate</th>\n",
       "      <th>perc_age_25_39</th>\n",
       "      <th>brewery_per_1Mpeople</th>\n",
       "    </tr>\n",
       "  </thead>\n",
       "  <tbody>\n",
       "    <tr>\n",
       "      <th>0</th>\n",
       "      <td>False</td>\n",
       "      <td>59871</td>\n",
       "      <td>59871</td>\n",
       "      <td>140.417818</td>\n",
       "      <td>0.1835</td>\n",
       "      <td>0.515</td>\n",
       "      <td>0.047</td>\n",
       "      <td>2.7</td>\n",
       "      <td>0.1730</td>\n",
       "      <td>50.107732</td>\n",
       "    </tr>\n",
       "    <tr>\n",
       "      <th>1</th>\n",
       "      <td>False</td>\n",
       "      <td>47747</td>\n",
       "      <td>47747</td>\n",
       "      <td>187.507840</td>\n",
       "      <td>-0.0437</td>\n",
       "      <td>0.520</td>\n",
       "      <td>0.041</td>\n",
       "      <td>3.5</td>\n",
       "      <td>0.1924</td>\n",
       "      <td>20.943724</td>\n",
       "    </tr>\n",
       "    <tr>\n",
       "      <th>2</th>\n",
       "      <td>False</td>\n",
       "      <td>43047</td>\n",
       "      <td>43047</td>\n",
       "      <td>191.158356</td>\n",
       "      <td>-0.0211</td>\n",
       "      <td>0.516</td>\n",
       "      <td>0.041</td>\n",
       "      <td>3.3</td>\n",
       "      <td>0.1814</td>\n",
       "      <td>23.230423</td>\n",
       "    </tr>\n",
       "    <tr>\n",
       "      <th>3</th>\n",
       "      <td>False</td>\n",
       "      <td>44322</td>\n",
       "      <td>44322</td>\n",
       "      <td>47.896403</td>\n",
       "      <td>-0.0310</td>\n",
       "      <td>0.509</td>\n",
       "      <td>0.031</td>\n",
       "      <td>3.3</td>\n",
       "      <td>0.1716</td>\n",
       "      <td>22.562159</td>\n",
       "    </tr>\n",
       "    <tr>\n",
       "      <th>4</th>\n",
       "      <td>False</td>\n",
       "      <td>54127</td>\n",
       "      <td>54127</td>\n",
       "      <td>592.627754</td>\n",
       "      <td>0.0002</td>\n",
       "      <td>0.527</td>\n",
       "      <td>0.041</td>\n",
       "      <td>2.9</td>\n",
       "      <td>0.2124</td>\n",
       "      <td>166.275611</td>\n",
       "    </tr>\n",
       "  </tbody>\n",
       "</table>\n",
       "</div>"
      ],
      "text/plain": [
       "   BestList  median_HHI_2019  bach_deg_pct_14to18  pop_density_per_mile  \\\n",
       "0     False            59871                59871            140.417818   \n",
       "1     False            47747                47747            187.507840   \n",
       "2     False            43047                43047            191.158356   \n",
       "3     False            44322                44322             47.896403   \n",
       "4     False            54127                54127            592.627754   \n",
       "\n",
       "   change_in_pop_decade  perc_female  perc_hispanic  unemployment_rate  \\\n",
       "0                0.1835        0.515          0.047                2.7   \n",
       "1               -0.0437        0.520          0.041                3.5   \n",
       "2               -0.0211        0.516          0.041                3.3   \n",
       "3               -0.0310        0.509          0.031                3.3   \n",
       "4                0.0002        0.527          0.041                2.9   \n",
       "\n",
       "   perc_age_25_39  brewery_per_1Mpeople  \n",
       "0          0.1730             50.107732  \n",
       "1          0.1924             20.943724  \n",
       "2          0.1814             23.230423  \n",
       "3          0.1716             22.562159  \n",
       "4          0.2124            166.275611  "
      ]
     },
     "execution_count": 2,
     "metadata": {},
     "output_type": "execute_result"
    }
   ],
   "source": [
    "df = pd.read_csv(os.path.join(\"data_best.csv\"))\n",
    "df.head()"
   ]
  },
  {
   "cell_type": "code",
   "execution_count": 3,
   "metadata": {},
   "outputs": [],
   "source": [
    "target = df[\"BestList\"]\n",
    "target_names = [\"no\", \"yes\"]"
   ]
  },
  {
   "cell_type": "code",
   "execution_count": 4,
   "metadata": {},
   "outputs": [
    {
     "data": {
      "text/html": [
       "<div>\n",
       "<style scoped>\n",
       "    .dataframe tbody tr th:only-of-type {\n",
       "        vertical-align: middle;\n",
       "    }\n",
       "\n",
       "    .dataframe tbody tr th {\n",
       "        vertical-align: top;\n",
       "    }\n",
       "\n",
       "    .dataframe thead th {\n",
       "        text-align: right;\n",
       "    }\n",
       "</style>\n",
       "<table border=\"1\" class=\"dataframe\">\n",
       "  <thead>\n",
       "    <tr style=\"text-align: right;\">\n",
       "      <th></th>\n",
       "      <th>median_HHI_2019</th>\n",
       "      <th>bach_deg_pct_14to18</th>\n",
       "      <th>pop_density_per_mile</th>\n",
       "      <th>change_in_pop_decade</th>\n",
       "      <th>perc_female</th>\n",
       "      <th>perc_hispanic</th>\n",
       "      <th>unemployment_rate</th>\n",
       "      <th>perc_age_25_39</th>\n",
       "      <th>brewery_per_1Mpeople</th>\n",
       "    </tr>\n",
       "  </thead>\n",
       "  <tbody>\n",
       "    <tr>\n",
       "      <th>0</th>\n",
       "      <td>59871</td>\n",
       "      <td>59871</td>\n",
       "      <td>140.417818</td>\n",
       "      <td>0.1835</td>\n",
       "      <td>0.515</td>\n",
       "      <td>0.047</td>\n",
       "      <td>2.7</td>\n",
       "      <td>0.1730</td>\n",
       "      <td>50.107732</td>\n",
       "    </tr>\n",
       "    <tr>\n",
       "      <th>1</th>\n",
       "      <td>47747</td>\n",
       "      <td>47747</td>\n",
       "      <td>187.507840</td>\n",
       "      <td>-0.0437</td>\n",
       "      <td>0.520</td>\n",
       "      <td>0.041</td>\n",
       "      <td>3.5</td>\n",
       "      <td>0.1924</td>\n",
       "      <td>20.943724</td>\n",
       "    </tr>\n",
       "    <tr>\n",
       "      <th>2</th>\n",
       "      <td>43047</td>\n",
       "      <td>43047</td>\n",
       "      <td>191.158356</td>\n",
       "      <td>-0.0211</td>\n",
       "      <td>0.516</td>\n",
       "      <td>0.041</td>\n",
       "      <td>3.3</td>\n",
       "      <td>0.1814</td>\n",
       "      <td>23.230423</td>\n",
       "    </tr>\n",
       "    <tr>\n",
       "      <th>3</th>\n",
       "      <td>44322</td>\n",
       "      <td>44322</td>\n",
       "      <td>47.896403</td>\n",
       "      <td>-0.0310</td>\n",
       "      <td>0.509</td>\n",
       "      <td>0.031</td>\n",
       "      <td>3.3</td>\n",
       "      <td>0.1716</td>\n",
       "      <td>22.562159</td>\n",
       "    </tr>\n",
       "    <tr>\n",
       "      <th>4</th>\n",
       "      <td>54127</td>\n",
       "      <td>54127</td>\n",
       "      <td>592.627754</td>\n",
       "      <td>0.0002</td>\n",
       "      <td>0.527</td>\n",
       "      <td>0.041</td>\n",
       "      <td>2.9</td>\n",
       "      <td>0.2124</td>\n",
       "      <td>166.275611</td>\n",
       "    </tr>\n",
       "  </tbody>\n",
       "</table>\n",
       "</div>"
      ],
      "text/plain": [
       "   median_HHI_2019  bach_deg_pct_14to18  pop_density_per_mile  \\\n",
       "0            59871                59871            140.417818   \n",
       "1            47747                47747            187.507840   \n",
       "2            43047                43047            191.158356   \n",
       "3            44322                44322             47.896403   \n",
       "4            54127                54127            592.627754   \n",
       "\n",
       "   change_in_pop_decade  perc_female  perc_hispanic  unemployment_rate  \\\n",
       "0                0.1835        0.515          0.047                2.7   \n",
       "1               -0.0437        0.520          0.041                3.5   \n",
       "2               -0.0211        0.516          0.041                3.3   \n",
       "3               -0.0310        0.509          0.031                3.3   \n",
       "4                0.0002        0.527          0.041                2.9   \n",
       "\n",
       "   perc_age_25_39  brewery_per_1Mpeople  \n",
       "0          0.1730             50.107732  \n",
       "1          0.1924             20.943724  \n",
       "2          0.1814             23.230423  \n",
       "3          0.1716             22.562159  \n",
       "4          0.2124            166.275611  "
      ]
     },
     "execution_count": 4,
     "metadata": {},
     "output_type": "execute_result"
    }
   ],
   "source": [
    "data = df.drop(\"BestList\", axis=1)\n",
    "feature_names = data.columns\n",
    "data.head()"
   ]
  },
  {
   "cell_type": "code",
   "execution_count": 5,
   "metadata": {},
   "outputs": [],
   "source": [
    "# data.replace([data.inf, -data.inf], data.nan, inplace=True)"
   ]
  },
  {
   "cell_type": "code",
   "execution_count": 6,
   "metadata": {},
   "outputs": [],
   "source": [
    "data.fillna(data.mean(), inplace=True)"
   ]
  },
  {
   "cell_type": "code",
   "execution_count": 7,
   "metadata": {},
   "outputs": [],
   "source": [
    "from sklearn.model_selection import train_test_split\n",
    "X_train, X_test, y_train, y_test = train_test_split(data, target, random_state=42)"
   ]
  },
  {
   "cell_type": "code",
   "execution_count": 8,
   "metadata": {},
   "outputs": [
    {
     "data": {
      "text/plain": [
       "0.9501557632398754"
      ]
     },
     "execution_count": 8,
     "metadata": {},
     "output_type": "execute_result"
    }
   ],
   "source": [
    "clf = tree.DecisionTreeClassifier()\n",
    "clf = clf.fit(X_train, y_train)\n",
    "clf.score(X_test, y_test)"
   ]
  },
  {
   "cell_type": "code",
   "execution_count": 9,
   "metadata": {},
   "outputs": [
    {
     "data": {
      "text/plain": [
       "0.9626168224299065"
      ]
     },
     "execution_count": 9,
     "metadata": {},
     "output_type": "execute_result"
    }
   ],
   "source": [
    "from sklearn.ensemble import RandomForestClassifier\n",
    "rf = RandomForestClassifier(n_estimators=200)\n",
    "rf = rf.fit(X_train, y_train)\n",
    "rf.score(X_test, y_test)"
   ]
  },
  {
   "cell_type": "code",
   "execution_count": 10,
   "metadata": {},
   "outputs": [
    {
     "data": {
      "text/plain": [
       "[(0.31193684357491397, 'brewery_per_1Mpeople'),\n",
       " (0.131504727821898, 'perc_age_25_39'),\n",
       " (0.10205070271409644, 'pop_density_per_mile'),\n",
       " (0.08539057652223908, 'change_in_pop_decade'),\n",
       " (0.08463755660205269, 'bach_deg_pct_14to18'),\n",
       " (0.08404565637299813, 'median_HHI_2019'),\n",
       " (0.08070453834087093, 'perc_hispanic'),\n",
       " (0.06304742734231172, 'unemployment_rate'),\n",
       " (0.05668197070861912, 'perc_female')]"
      ]
     },
     "execution_count": 10,
     "metadata": {},
     "output_type": "execute_result"
    }
   ],
   "source": [
    "sorted(zip(rf.feature_importances_, feature_names), reverse=True)"
   ]
  },
  {
   "cell_type": "markdown",
   "metadata": {},
   "source": [
    "## Comparision of Calibration of Classifiers"
   ]
  },
  {
   "cell_type": "code",
   "execution_count": 11,
   "metadata": {},
   "outputs": [
    {
     "name": "stdout",
     "output_type": "stream",
     "text": [
      "Automatically created module for IPython interactive environment\n"
     ]
    },
    {
     "name": "stderr",
     "output_type": "stream",
     "text": [
      "C:\\Users\\zach-\\anaconda3\\envs\\PythonAdv\\lib\\site-packages\\sklearn\\svm\\_base.py:977: ConvergenceWarning: Liblinear failed to converge, increase the number of iterations.\n",
      "  \"the number of iterations.\", ConvergenceWarning)\n"
     ]
    },
    {
     "data": {
      "image/png": "[encoded data removed]",
      "text/plain": [
       "<Figure size 720x720 with 2 Axes>"
      ]
     },
     "metadata": {
      "needs_background": "light"
     },
     "output_type": "display_data"
    }
   ],
   "source": [
    "print(__doc__)\n",
    "\n",
    "# Author: Jan Hendrik Metzen <jhm@informatik.uni-bremen.de>\n",
    "# License: BSD Style.\n",
    "\n",
    "import numpy as np\n",
    "np.random.seed(0)\n",
    "\n",
    "import matplotlib.pyplot as plt\n",
    "\n",
    "from sklearn import datasets\n",
    "from sklearn.naive_bayes import GaussianNB\n",
    "from sklearn.linear_model import LogisticRegression\n",
    "from sklearn.ensemble import RandomForestClassifier\n",
    "from sklearn.svm import LinearSVC\n",
    "from sklearn.calibration import calibration_curve\n",
    "\n",
    "# X, y = datasets.make_classification(n_samples=100000, n_features=20,\n",
    "#                                     n_informative=2, n_redundant=2)\n",
    "\n",
    "# train_samples = 100  # Samples used for training the models\n",
    "\n",
    "# X_train = X[:train_samples]\n",
    "# X_test = X[train_samples:]\n",
    "# y_train = y[:train_samples]\n",
    "# y_test = y[train_samples:]\n",
    "\n",
    "# Create classifiers\n",
    "lr = LogisticRegression()\n",
    "gnb = GaussianNB()\n",
    "svc = LinearSVC(C=1.0)\n",
    "rfc = RandomForestClassifier()\n",
    "\n",
    "\n",
    "# #############################################################################\n",
    "# Plot calibration plots\n",
    "\n",
    "plt.figure(figsize=(10, 10))\n",
    "ax1 = plt.subplot2grid((3, 1), (0, 0), rowspan=2)\n",
    "ax2 = plt.subplot2grid((3, 1), (2, 0))\n",
    "\n",
    "ax1.plot([0, 1], [0, 1], \"k:\", label=\"Perfectly calibrated\")\n",
    "for clf, name in [(lr, 'Logistic'),\n",
    "                  (gnb, 'Naive Bayes'),\n",
    "                  (svc, 'Support Vector Classification'),\n",
    "                  (rfc, 'Random Forest')]:\n",
    "    clf.fit(X_train, y_train)\n",
    "    if hasattr(clf, \"predict_proba\"):\n",
    "        prob_pos = clf.predict_proba(X_test)[:, 1]\n",
    "    else:  # use decision function\n",
    "        prob_pos = clf.decision_function(X_test)\n",
    "        prob_pos = \\\n",
    "            (prob_pos - prob_pos.min()) / (prob_pos.max() - prob_pos.min())\n",
    "    fraction_of_positives, mean_predicted_value = \\\n",
    "        calibration_curve(y_test, prob_pos, n_bins=10)\n",
    "\n",
    "    ax1.plot(mean_predicted_value, fraction_of_positives, \"s-\",\n",
    "             label=\"%s\" % (name, ))\n",
    "\n",
    "    ax2.hist(prob_pos, range=(0, 1), bins=10, label=name,\n",
    "             histtype=\"step\", lw=2)\n",
    "\n",
    "ax1.set_ylabel(\"Fraction of positives\")\n",
    "ax1.set_ylim([-0.05, 1.05])\n",
    "ax1.legend(loc=\"lower right\")\n",
    "ax1.set_title('Calibration plots  (reliability curve)')\n",
    "\n",
    "ax2.set_xlabel(\"Mean predicted value\")\n",
    "ax2.set_ylabel(\"Count\")\n",
    "ax2.legend(loc=\"upper center\", ncol=2)\n",
    "\n",
    "plt.tight_layout()\n",
    "plt.show()"
   ]
  },
  {
   "cell_type": "markdown",
   "metadata": {},
   "source": [
    "# Permutation Importance Model\n"
   ]
  },
  {
   "cell_type": "code",
   "execution_count": 12,
   "metadata": {},
   "outputs": [],
   "source": [
    "# rf is the random forest model, for X you can use X or X_train, and the corresponding y (/y_train)\n",
    "result = permutation_importance(rf, X_train, y_train, random_state=0)"
   ]
  },
  {
   "cell_type": "code",
   "execution_count": 13,
   "metadata": {},
   "outputs": [
    {
     "data": {
      "text/plain": [
       "[(0.033333333333333326, 'brewery_per_1Mpeople'),\n",
       " (0.012083333333333312, 'pop_density_per_mile'),\n",
       " (0.00874999999999999, 'perc_age_25_39'),\n",
       " (0.0050000000000000044, 'perc_hispanic'),\n",
       " (0.004374999999999995, 'change_in_pop_decade'),\n",
       " (0.003750000000000009, 'median_HHI_2019'),\n",
       " (0.003333333333333366, 'perc_female'),\n",
       " (0.0031250000000000223, 'bach_deg_pct_14to18'),\n",
       " (0.0008333333333333526, 'unemployment_rate')]"
      ]
     },
     "execution_count": 13,
     "metadata": {},
     "output_type": "execute_result"
    }
   ],
   "source": [
    "# then you can use the importances_mean like your importances from your model\n",
    "sorted(zip(result.importances_mean, feature_names), reverse=True)"
   ]
  },
  {
   "cell_type": "markdown",
   "metadata": {},
   "source": [
    "## Prediction Output"
   ]
  },
  {
   "cell_type": "code",
   "execution_count": 14,
   "metadata": {},
   "outputs": [
    {
     "data": {
      "text/plain": [
       "array([[5.98710000e+04, 5.98710000e+04, 1.40417818e+02, ...,\n",
       "        2.70000000e+00, 1.73000000e-01, 5.01077316e+01],\n",
       "       [4.77470000e+04, 4.77470000e+04, 1.87507840e+02, ...,\n",
       "        3.50000000e+00, 1.92400000e-01, 2.09437242e+01],\n",
       "       [4.30470000e+04, 4.30470000e+04, 1.91158356e+02, ...,\n",
       "        3.30000000e+00, 1.81400000e-01, 2.32304226e+01],\n",
       "       ...,\n",
       "       [8.06390000e+04, 8.06390000e+04, 4.06103629e+00, ...,\n",
       "        3.90000000e+00, 2.15000000e-01, 2.48018949e+01],\n",
       "       [9.88370000e+04, 9.88370000e+04, 5.87278453e+00, ...,\n",
       "        2.70000000e+00, 2.54200000e-01, 4.04706739e+01],\n",
       "       [7.07560000e+04, 7.07560000e+04, 9.71813283e+00, ...,\n",
       "        3.90000000e+00, 1.87300000e-01, 1.41330771e+01]])"
      ]
     },
     "execution_count": 14,
     "metadata": {},
     "output_type": "execute_result"
    }
   ],
   "source": [
    "data.to_numpy(dtype=None,copy=False)"
   ]
  },
  {
   "cell_type": "code",
   "execution_count": 15,
   "metadata": {},
   "outputs": [
    {
     "data": {
      "text/plain": [
       "array([False, False, False, ..., False, False, False])"
      ]
     },
     "execution_count": 15,
     "metadata": {},
     "output_type": "execute_result"
    }
   ],
   "source": [
    "rf.predict(data)"
   ]
  },
  {
   "cell_type": "code",
   "execution_count": null,
   "metadata": {},
   "outputs": [],
   "source": [
    "## rf.predict on the array that we build to predict.\n"
   ]
  }
 ],
 "metadata": {
  "kernelspec": {
   "display_name": "Python [conda env:PythonAdv] *",
   "language": "python",
   "name": "conda-env-PythonAdv-py"
  },
  "language_info": {
   "codemirror_mode": {
    "name": "ipython",
    "version": 3
   },
   "file_extension": ".py",
   "mimetype": "text/x-python",
   "name": "python",
   "nbconvert_exporter": "python",
   "pygments_lexer": "ipython3",
   "version": "3.6.12"
  },
  "varInspector": {
   "cols": {
    "lenName": 16,
    "lenType": 16,
    "lenVar": 40
   },
   "kernels_config": {
    "python": {
     "delete_cmd_postfix": "",
     "delete_cmd_prefix": "del ",
     "library": "var_list.py",
     "varRefreshCmd": "print(var_dic_list())"
    },
    "r": {
     "delete_cmd_postfix": ") ",
     "delete_cmd_prefix": "rm(",
     "library": "var_list.r",
     "varRefreshCmd": "cat(var_dic_list()) "
    }
   },
   "types_to_exclude": [
    "module",
    "function",
    "builtin_function_or_method",
    "instance",
    "_Feature"
   ],
   "window_display": false
  }
 },
 "nbformat": 4,
 "nbformat_minor": 2
}
